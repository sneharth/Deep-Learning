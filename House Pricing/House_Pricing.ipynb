{
  "nbformat": 4,
  "nbformat_minor": 0,
  "metadata": {
    "colab": {
      "name": "House Pricing.ipynb",
      "provenance": [],
      "collapsed_sections": []
    },
    "kernelspec": {
      "name": "python3",
      "display_name": "Python 3"
    },
    "accelerator": "GPU"
  },
  "cells": [
    {
      "cell_type": "markdown",
      "metadata": {
        "id": "I9hg8mfV9NYn"
      },
      "source": [
        "### Importing necessary libraries"
      ]
    },
    {
      "cell_type": "code",
      "metadata": {
        "id": "X-BZR9Fo7YLG"
      },
      "source": [
        "import pandas as pd\n",
        "from sklearn.model_selection import train_test_split\n",
        "from sklearn.preprocessing import StandardScaler\n",
        "import matplotlib.pyplot as plt\n",
        "import tensorflow as tf\n",
        "import time\n",
        "import os\n",
        "from sklearn.datasets import fetch_california_housing"
      ],
      "execution_count": 50,
      "outputs": []
    },
    {
      "cell_type": "markdown",
      "metadata": {
        "id": "vsU8wHFd9nB8"
      },
      "source": [
        "### Checking for CPU/GPU"
      ]
    },
    {
      "cell_type": "code",
      "metadata": {
        "colab": {
          "base_uri": "https://localhost:8080/"
        },
        "id": "jjsPAEw39jb0",
        "outputId": "99841e00-1162-4b5f-e82c-673f759b07c7"
      },
      "source": [
        "devices = [ \"CPU\" , \"GPU\" ]\n",
        "for device in devices:\n",
        "  out = tf.config.list_physical_devices ( device )\n",
        "  if len ( out ) > 0:\n",
        "    print ( device , \"is available.\" )\n",
        "    print ( device )\n",
        "  else:\n",
        "    print ( device , \"is not available.\" )"
      ],
      "execution_count": 51,
      "outputs": [
        {
          "output_type": "stream",
          "text": [
            "CPU is available.\n",
            "CPU\n",
            "GPU is available.\n",
            "GPU\n"
          ],
          "name": "stdout"
        }
      ]
    },
    {
      "cell_type": "markdown",
      "metadata": {
        "id": "FtVvQ6aV-E9w"
      },
      "source": [
        "### Checking for GPU configuration"
      ]
    },
    {
      "cell_type": "code",
      "metadata": {
        "colab": {
          "base_uri": "https://localhost:8080/"
        },
        "id": "CJD7ztAg98Ol",
        "outputId": "eedfd671-f349-40ca-b684-33afd2cacfc2"
      },
      "source": [
        "!nvidia-smi"
      ],
      "execution_count": 52,
      "outputs": [
        {
          "output_type": "stream",
          "text": [
            "Mon Jan 25 10:38:34 2021       \n",
            "+-----------------------------------------------------------------------------+\n",
            "| NVIDIA-SMI 460.32.03    Driver Version: 418.67       CUDA Version: 10.1     |\n",
            "|-------------------------------+----------------------+----------------------+\n",
            "| GPU  Name        Persistence-M| Bus-Id        Disp.A | Volatile Uncorr. ECC |\n",
            "| Fan  Temp  Perf  Pwr:Usage/Cap|         Memory-Usage | GPU-Util  Compute M. |\n",
            "|                               |                      |               MIG M. |\n",
            "|===============================+======================+======================|\n",
            "|   0  Tesla K80           Off  | 00000000:00:04.0 Off |                    0 |\n",
            "| N/A   55C    P0    61W / 149W |    158MiB / 11441MiB |      0%      Default |\n",
            "|                               |                      |                 ERR! |\n",
            "+-------------------------------+----------------------+----------------------+\n",
            "                                                                               \n",
            "+-----------------------------------------------------------------------------+\n",
            "| Processes:                                                                  |\n",
            "|  GPU   GI   CI        PID   Type   Process name                  GPU Memory |\n",
            "|        ID   ID                                                   Usage      |\n",
            "|=============================================================================|\n",
            "|  No running processes found                                                 |\n",
            "+-----------------------------------------------------------------------------+\n"
          ],
          "name": "stdout"
        }
      ]
    },
    {
      "cell_type": "markdown",
      "metadata": {
        "id": "tmW_DyGS_RlM"
      },
      "source": [
        "### Reading and Viewing the data"
      ]
    },
    {
      "cell_type": "code",
      "metadata": {
        "colab": {
          "base_uri": "https://localhost:8080/",
          "height": 204
        },
        "id": "6Gkcse_--C1p",
        "outputId": "b3c1c8a2-f0e4-4094-acb7-8b203bdcf3c9"
      },
      "source": [
        "housing = fetch_california_housing ( )\n",
        "data = pd.DataFrame ( housing.data , columns = housing.feature_names )\n",
        "data [ \"Price\" ] = housing.target\n",
        "data.head ( )"
      ],
      "execution_count": 53,
      "outputs": [
        {
          "output_type": "execute_result",
          "data": {
            "text/html": [
              "<div>\n",
              "<style scoped>\n",
              "    .dataframe tbody tr th:only-of-type {\n",
              "        vertical-align: middle;\n",
              "    }\n",
              "\n",
              "    .dataframe tbody tr th {\n",
              "        vertical-align: top;\n",
              "    }\n",
              "\n",
              "    .dataframe thead th {\n",
              "        text-align: right;\n",
              "    }\n",
              "</style>\n",
              "<table border=\"1\" class=\"dataframe\">\n",
              "  <thead>\n",
              "    <tr style=\"text-align: right;\">\n",
              "      <th></th>\n",
              "      <th>MedInc</th>\n",
              "      <th>HouseAge</th>\n",
              "      <th>AveRooms</th>\n",
              "      <th>AveBedrms</th>\n",
              "      <th>Population</th>\n",
              "      <th>AveOccup</th>\n",
              "      <th>Latitude</th>\n",
              "      <th>Longitude</th>\n",
              "      <th>Price</th>\n",
              "    </tr>\n",
              "  </thead>\n",
              "  <tbody>\n",
              "    <tr>\n",
              "      <th>0</th>\n",
              "      <td>8.3252</td>\n",
              "      <td>41.0</td>\n",
              "      <td>6.984127</td>\n",
              "      <td>1.023810</td>\n",
              "      <td>322.0</td>\n",
              "      <td>2.555556</td>\n",
              "      <td>37.88</td>\n",
              "      <td>-122.23</td>\n",
              "      <td>4.526</td>\n",
              "    </tr>\n",
              "    <tr>\n",
              "      <th>1</th>\n",
              "      <td>8.3014</td>\n",
              "      <td>21.0</td>\n",
              "      <td>6.238137</td>\n",
              "      <td>0.971880</td>\n",
              "      <td>2401.0</td>\n",
              "      <td>2.109842</td>\n",
              "      <td>37.86</td>\n",
              "      <td>-122.22</td>\n",
              "      <td>3.585</td>\n",
              "    </tr>\n",
              "    <tr>\n",
              "      <th>2</th>\n",
              "      <td>7.2574</td>\n",
              "      <td>52.0</td>\n",
              "      <td>8.288136</td>\n",
              "      <td>1.073446</td>\n",
              "      <td>496.0</td>\n",
              "      <td>2.802260</td>\n",
              "      <td>37.85</td>\n",
              "      <td>-122.24</td>\n",
              "      <td>3.521</td>\n",
              "    </tr>\n",
              "    <tr>\n",
              "      <th>3</th>\n",
              "      <td>5.6431</td>\n",
              "      <td>52.0</td>\n",
              "      <td>5.817352</td>\n",
              "      <td>1.073059</td>\n",
              "      <td>558.0</td>\n",
              "      <td>2.547945</td>\n",
              "      <td>37.85</td>\n",
              "      <td>-122.25</td>\n",
              "      <td>3.413</td>\n",
              "    </tr>\n",
              "    <tr>\n",
              "      <th>4</th>\n",
              "      <td>3.8462</td>\n",
              "      <td>52.0</td>\n",
              "      <td>6.281853</td>\n",
              "      <td>1.081081</td>\n",
              "      <td>565.0</td>\n",
              "      <td>2.181467</td>\n",
              "      <td>37.85</td>\n",
              "      <td>-122.25</td>\n",
              "      <td>3.422</td>\n",
              "    </tr>\n",
              "  </tbody>\n",
              "</table>\n",
              "</div>"
            ],
            "text/plain": [
              "   MedInc  HouseAge  AveRooms  AveBedrms  ...  AveOccup  Latitude  Longitude  Price\n",
              "0  8.3252      41.0  6.984127   1.023810  ...  2.555556     37.88    -122.23  4.526\n",
              "1  8.3014      21.0  6.238137   0.971880  ...  2.109842     37.86    -122.22  3.585\n",
              "2  7.2574      52.0  8.288136   1.073446  ...  2.802260     37.85    -122.24  3.521\n",
              "3  5.6431      52.0  5.817352   1.073059  ...  2.547945     37.85    -122.25  3.413\n",
              "4  3.8462      52.0  6.281853   1.081081  ...  2.181467     37.85    -122.25  3.422\n",
              "\n",
              "[5 rows x 9 columns]"
            ]
          },
          "metadata": {
            "tags": []
          },
          "execution_count": 53
        }
      ]
    },
    {
      "cell_type": "markdown",
      "metadata": {
        "id": "GvrXJC3MBklw"
      },
      "source": [
        "### Description of features"
      ]
    },
    {
      "cell_type": "code",
      "metadata": {
        "colab": {
          "base_uri": "https://localhost:8080/"
        },
        "id": "255vtdCrBkRN",
        "outputId": "fe65316e-9c54-419f-e71d-93d79596acc6"
      },
      "source": [
        "print ( housing.DESCR )"
      ],
      "execution_count": 54,
      "outputs": [
        {
          "output_type": "stream",
          "text": [
            ".. _california_housing_dataset:\n",
            "\n",
            "California Housing dataset\n",
            "--------------------------\n",
            "\n",
            "**Data Set Characteristics:**\n",
            "\n",
            "    :Number of Instances: 20640\n",
            "\n",
            "    :Number of Attributes: 8 numeric, predictive attributes and the target\n",
            "\n",
            "    :Attribute Information:\n",
            "        - MedInc        median income in block\n",
            "        - HouseAge      median house age in block\n",
            "        - AveRooms      average number of rooms\n",
            "        - AveBedrms     average number of bedrooms\n",
            "        - Population    block population\n",
            "        - AveOccup      average house occupancy\n",
            "        - Latitude      house block latitude\n",
            "        - Longitude     house block longitude\n",
            "\n",
            "    :Missing Attribute Values: None\n",
            "\n",
            "This dataset was obtained from the StatLib repository.\n",
            "http://lib.stat.cmu.edu/datasets/\n",
            "\n",
            "The target variable is the median house value for California districts.\n",
            "\n",
            "This dataset was derived from the 1990 U.S. census, using one row per census\n",
            "block group. A block group is the smallest geographical unit for which the U.S.\n",
            "Census Bureau publishes sample data (a block group typically has a population\n",
            "of 600 to 3,000 people).\n",
            "\n",
            "It can be downloaded/loaded using the\n",
            ":func:`sklearn.datasets.fetch_california_housing` function.\n",
            "\n",
            ".. topic:: References\n",
            "\n",
            "    - Pace, R. Kelley and Ronald Barry, Sparse Spatial Autoregressions,\n",
            "      Statistics and Probability Letters, 33 (1997) 291-297\n",
            "\n"
          ],
          "name": "stdout"
        }
      ]
    },
    {
      "cell_type": "markdown",
      "metadata": {
        "id": "oqO3tnDHAeeY"
      },
      "source": [
        "### Splitting the data into X and y"
      ]
    },
    {
      "cell_type": "code",
      "metadata": {
        "id": "Vuqh5qsQ_yey"
      },
      "source": [
        "X = data.drop ( \"Price\" , axis = 1 )\n",
        "y = data [ \"Price\" ]"
      ],
      "execution_count": 55,
      "outputs": []
    },
    {
      "cell_type": "markdown",
      "metadata": {
        "id": "k_8Y4U-2Aank"
      },
      "source": [
        "### Checking the null values"
      ]
    },
    {
      "cell_type": "code",
      "metadata": {
        "colab": {
          "base_uri": "https://localhost:8080/"
        },
        "id": "-XqeF5jy_5-h",
        "outputId": "16787d3d-fc61-4a1e-e658-88ca779b0791"
      },
      "source": [
        "data.isnull ( ).sum ( )"
      ],
      "execution_count": 56,
      "outputs": [
        {
          "output_type": "execute_result",
          "data": {
            "text/plain": [
              "MedInc        0\n",
              "HouseAge      0\n",
              "AveRooms      0\n",
              "AveBedrms     0\n",
              "Population    0\n",
              "AveOccup      0\n",
              "Latitude      0\n",
              "Longitude     0\n",
              "Price         0\n",
              "dtype: int64"
            ]
          },
          "metadata": {
            "tags": []
          },
          "execution_count": 56
        }
      ]
    },
    {
      "cell_type": "markdown",
      "metadata": {
        "id": "Mm0TyG9PDCjc"
      },
      "source": [
        "### Shape of the data"
      ]
    },
    {
      "cell_type": "code",
      "metadata": {
        "colab": {
          "base_uri": "https://localhost:8080/"
        },
        "id": "4DAfJ7RhDCU_",
        "outputId": "c3e78880-5fe0-45c3-c8c1-441ecde27d5b"
      },
      "source": [
        "print ( \"Rows:\" , data.shape [ 0 ] , \"\\tColumns:\" , data.shape [ 1 ] )"
      ],
      "execution_count": 57,
      "outputs": [
        {
          "output_type": "stream",
          "text": [
            "Rows: 20640 \tColumns: 9\n"
          ],
          "name": "stdout"
        }
      ]
    },
    {
      "cell_type": "markdown",
      "metadata": {
        "id": "7Bx05btkAhsP"
      },
      "source": [
        "### Descriptive Statistical Information"
      ]
    },
    {
      "cell_type": "code",
      "metadata": {
        "colab": {
          "base_uri": "https://localhost:8080/",
          "height": 297
        },
        "id": "WT01jVqrAL5p",
        "outputId": "f3eb3981-3e67-418b-a5a3-5a44187c3074"
      },
      "source": [
        "data.describe ( )"
      ],
      "execution_count": 58,
      "outputs": [
        {
          "output_type": "execute_result",
          "data": {
            "text/html": [
              "<div>\n",
              "<style scoped>\n",
              "    .dataframe tbody tr th:only-of-type {\n",
              "        vertical-align: middle;\n",
              "    }\n",
              "\n",
              "    .dataframe tbody tr th {\n",
              "        vertical-align: top;\n",
              "    }\n",
              "\n",
              "    .dataframe thead th {\n",
              "        text-align: right;\n",
              "    }\n",
              "</style>\n",
              "<table border=\"1\" class=\"dataframe\">\n",
              "  <thead>\n",
              "    <tr style=\"text-align: right;\">\n",
              "      <th></th>\n",
              "      <th>MedInc</th>\n",
              "      <th>HouseAge</th>\n",
              "      <th>AveRooms</th>\n",
              "      <th>AveBedrms</th>\n",
              "      <th>Population</th>\n",
              "      <th>AveOccup</th>\n",
              "      <th>Latitude</th>\n",
              "      <th>Longitude</th>\n",
              "      <th>Price</th>\n",
              "    </tr>\n",
              "  </thead>\n",
              "  <tbody>\n",
              "    <tr>\n",
              "      <th>count</th>\n",
              "      <td>20640.000000</td>\n",
              "      <td>20640.000000</td>\n",
              "      <td>20640.000000</td>\n",
              "      <td>20640.000000</td>\n",
              "      <td>20640.000000</td>\n",
              "      <td>20640.000000</td>\n",
              "      <td>20640.000000</td>\n",
              "      <td>20640.000000</td>\n",
              "      <td>20640.000000</td>\n",
              "    </tr>\n",
              "    <tr>\n",
              "      <th>mean</th>\n",
              "      <td>3.870671</td>\n",
              "      <td>28.639486</td>\n",
              "      <td>5.429000</td>\n",
              "      <td>1.096675</td>\n",
              "      <td>1425.476744</td>\n",
              "      <td>3.070655</td>\n",
              "      <td>35.631861</td>\n",
              "      <td>-119.569704</td>\n",
              "      <td>2.068558</td>\n",
              "    </tr>\n",
              "    <tr>\n",
              "      <th>std</th>\n",
              "      <td>1.899822</td>\n",
              "      <td>12.585558</td>\n",
              "      <td>2.474173</td>\n",
              "      <td>0.473911</td>\n",
              "      <td>1132.462122</td>\n",
              "      <td>10.386050</td>\n",
              "      <td>2.135952</td>\n",
              "      <td>2.003532</td>\n",
              "      <td>1.153956</td>\n",
              "    </tr>\n",
              "    <tr>\n",
              "      <th>min</th>\n",
              "      <td>0.499900</td>\n",
              "      <td>1.000000</td>\n",
              "      <td>0.846154</td>\n",
              "      <td>0.333333</td>\n",
              "      <td>3.000000</td>\n",
              "      <td>0.692308</td>\n",
              "      <td>32.540000</td>\n",
              "      <td>-124.350000</td>\n",
              "      <td>0.149990</td>\n",
              "    </tr>\n",
              "    <tr>\n",
              "      <th>25%</th>\n",
              "      <td>2.563400</td>\n",
              "      <td>18.000000</td>\n",
              "      <td>4.440716</td>\n",
              "      <td>1.006079</td>\n",
              "      <td>787.000000</td>\n",
              "      <td>2.429741</td>\n",
              "      <td>33.930000</td>\n",
              "      <td>-121.800000</td>\n",
              "      <td>1.196000</td>\n",
              "    </tr>\n",
              "    <tr>\n",
              "      <th>50%</th>\n",
              "      <td>3.534800</td>\n",
              "      <td>29.000000</td>\n",
              "      <td>5.229129</td>\n",
              "      <td>1.048780</td>\n",
              "      <td>1166.000000</td>\n",
              "      <td>2.818116</td>\n",
              "      <td>34.260000</td>\n",
              "      <td>-118.490000</td>\n",
              "      <td>1.797000</td>\n",
              "    </tr>\n",
              "    <tr>\n",
              "      <th>75%</th>\n",
              "      <td>4.743250</td>\n",
              "      <td>37.000000</td>\n",
              "      <td>6.052381</td>\n",
              "      <td>1.099526</td>\n",
              "      <td>1725.000000</td>\n",
              "      <td>3.282261</td>\n",
              "      <td>37.710000</td>\n",
              "      <td>-118.010000</td>\n",
              "      <td>2.647250</td>\n",
              "    </tr>\n",
              "    <tr>\n",
              "      <th>max</th>\n",
              "      <td>15.000100</td>\n",
              "      <td>52.000000</td>\n",
              "      <td>141.909091</td>\n",
              "      <td>34.066667</td>\n",
              "      <td>35682.000000</td>\n",
              "      <td>1243.333333</td>\n",
              "      <td>41.950000</td>\n",
              "      <td>-114.310000</td>\n",
              "      <td>5.000010</td>\n",
              "    </tr>\n",
              "  </tbody>\n",
              "</table>\n",
              "</div>"
            ],
            "text/plain": [
              "             MedInc      HouseAge  ...     Longitude         Price\n",
              "count  20640.000000  20640.000000  ...  20640.000000  20640.000000\n",
              "mean       3.870671     28.639486  ...   -119.569704      2.068558\n",
              "std        1.899822     12.585558  ...      2.003532      1.153956\n",
              "min        0.499900      1.000000  ...   -124.350000      0.149990\n",
              "25%        2.563400     18.000000  ...   -121.800000      1.196000\n",
              "50%        3.534800     29.000000  ...   -118.490000      1.797000\n",
              "75%        4.743250     37.000000  ...   -118.010000      2.647250\n",
              "max       15.000100     52.000000  ...   -114.310000      5.000010\n",
              "\n",
              "[8 rows x 9 columns]"
            ]
          },
          "metadata": {
            "tags": []
          },
          "execution_count": 58
        }
      ]
    },
    {
      "cell_type": "markdown",
      "metadata": {
        "id": "p_zosN3uAuJj"
      },
      "source": [
        "### Nature of Variables"
      ]
    },
    {
      "cell_type": "code",
      "metadata": {
        "colab": {
          "base_uri": "https://localhost:8080/"
        },
        "id": "QSXyXGqWAOPH",
        "outputId": "0fceb0ab-480e-4989-8767-a4c498985e9c"
      },
      "source": [
        "data.info ( )"
      ],
      "execution_count": 59,
      "outputs": [
        {
          "output_type": "stream",
          "text": [
            "<class 'pandas.core.frame.DataFrame'>\n",
            "RangeIndex: 20640 entries, 0 to 20639\n",
            "Data columns (total 9 columns):\n",
            " #   Column      Non-Null Count  Dtype  \n",
            "---  ------      --------------  -----  \n",
            " 0   MedInc      20640 non-null  float64\n",
            " 1   HouseAge    20640 non-null  float64\n",
            " 2   AveRooms    20640 non-null  float64\n",
            " 3   AveBedrms   20640 non-null  float64\n",
            " 4   Population  20640 non-null  float64\n",
            " 5   AveOccup    20640 non-null  float64\n",
            " 6   Latitude    20640 non-null  float64\n",
            " 7   Longitude   20640 non-null  float64\n",
            " 8   Price       20640 non-null  float64\n",
            "dtypes: float64(9)\n",
            "memory usage: 1.4 MB\n"
          ],
          "name": "stdout"
        }
      ]
    },
    {
      "cell_type": "markdown",
      "metadata": {
        "id": "qhI1Wf3CA74n"
      },
      "source": [
        "## Since the aim here is to implement an Artificial Neural Network (ANN), I'll not perform any sort of Exploratory Data Analysis, Feature Engineering or Statistical tests."
      ]
    },
    {
      "cell_type": "markdown",
      "metadata": {
        "id": "9w3aMvtOCj2a"
      },
      "source": [
        "### Splitting the data into Train, Test and Validation"
      ]
    },
    {
      "cell_type": "code",
      "metadata": {
        "id": "s4EI3wHYAsla"
      },
      "source": [
        "X_train_full , X_test , y_train_full , y_test = train_test_split ( X , y , test_size = 0.3 , random_state = 37 )\n",
        "X_train , X_valid , y_train , y_valid = train_test_split ( X_train_full , y_train_full , test_size = 0.1 , random_state = 37 )"
      ],
      "execution_count": 60,
      "outputs": []
    },
    {
      "cell_type": "markdown",
      "metadata": {
        "id": "ePyDCe9mDR2t"
      },
      "source": [
        "### Implementing the StandardScaler"
      ]
    },
    {
      "cell_type": "code",
      "metadata": {
        "colab": {
          "base_uri": "https://localhost:8080/"
        },
        "id": "EzxE2LwWDOSa",
        "outputId": "293ce5e6-e307-4058-bfe0-2ae3c9c1e20f"
      },
      "source": [
        "ss = StandardScaler ( )\n",
        "X_train = ss.fit_transform ( X_train )\n",
        "X_valid = ss.transform ( X_valid )\n",
        "X_test = ss.transform ( X_test )\n",
        "print ( \"Shape of X_train: {}\\tShape of X_test: {}\\tShape of X_valid: {}\" \n",
        "       .format ( X_train.shape , X_test.shape , X_valid.shape ) )"
      ],
      "execution_count": 61,
      "outputs": [
        {
          "output_type": "stream",
          "text": [
            "Shape of X_train: (13003, 8)\tShape of X_test: (6192, 8)\tShape of X_valid: (1445, 8)\n"
          ],
          "name": "stdout"
        }
      ]
    },
    {
      "cell_type": "markdown",
      "metadata": {
        "id": "iEda2TvUFTsq"
      },
      "source": [
        "### Implementing the Artificial Neural Network (ANN)"
      ]
    },
    {
      "cell_type": "code",
      "metadata": {
        "colab": {
          "base_uri": "https://localhost:8080/"
        },
        "id": "pEtKdApZDepm",
        "outputId": "129ce546-059b-4efc-8051-377c8f65b453"
      },
      "source": [
        "layers = [ tf.keras.layers.Dense ( 30 , activation = \"relu\" , input_shape = X_train.shape [ 1 : ] ) , \n",
        "          tf.keras.layers.Dense ( 30 , activation = \"relu\" ) , \n",
        "          tf.keras.layers.Dense ( 30 , activation = \"relu\" ) , \n",
        "          tf.keras.layers.Dense ( 30 , activation = \"relu\" ) , \n",
        "          tf.keras.layers.Dense ( 10 , activation = \"relu\" ) , \n",
        "          tf.keras.layers.Dense ( 5 , activation = \"relu\" ) ,\n",
        "          tf.keras.layers.Dense ( 1 ) ]\n",
        "model = tf.keras.models.Sequential ( layers )\n",
        "model.compile ( loss = \"mse\" , optimizer = \"adam\" )\n",
        "history = model.fit ( X_train , y_train , validation_data = ( X_valid , y_valid ) , epochs = 30 )"
      ],
      "execution_count": 62,
      "outputs": [
        {
          "output_type": "stream",
          "text": [
            "Epoch 1/30\n",
            "407/407 [==============================] - 2s 3ms/step - loss: 3.3893 - val_loss: 0.5051\n",
            "Epoch 2/30\n",
            "407/407 [==============================] - 1s 3ms/step - loss: 0.4877 - val_loss: 0.3875\n",
            "Epoch 3/30\n",
            "407/407 [==============================] - 1s 3ms/step - loss: 0.4082 - val_loss: 0.3665\n",
            "Epoch 4/30\n",
            "407/407 [==============================] - 1s 3ms/step - loss: 0.3995 - val_loss: 0.3424\n",
            "Epoch 5/30\n",
            "407/407 [==============================] - 1s 3ms/step - loss: 0.3705 - val_loss: 0.3311\n",
            "Epoch 6/30\n",
            "407/407 [==============================] - 1s 3ms/step - loss: 0.3514 - val_loss: 0.3217\n",
            "Epoch 7/30\n",
            "407/407 [==============================] - 1s 3ms/step - loss: 0.3372 - val_loss: 0.3179\n",
            "Epoch 8/30\n",
            "407/407 [==============================] - 1s 3ms/step - loss: 0.3305 - val_loss: 0.3092\n",
            "Epoch 9/30\n",
            "407/407 [==============================] - 1s 4ms/step - loss: 0.3245 - val_loss: 0.3030\n",
            "Epoch 10/30\n",
            "407/407 [==============================] - 1s 3ms/step - loss: 0.3172 - val_loss: 0.3030\n",
            "Epoch 11/30\n",
            "407/407 [==============================] - 1s 3ms/step - loss: 0.3217 - val_loss: 0.2914\n",
            "Epoch 12/30\n",
            "407/407 [==============================] - 1s 3ms/step - loss: 0.3147 - val_loss: 0.3110\n",
            "Epoch 13/30\n",
            "407/407 [==============================] - 1s 3ms/step - loss: 0.3150 - val_loss: 0.3101\n",
            "Epoch 14/30\n",
            "407/407 [==============================] - 1s 3ms/step - loss: 0.3031 - val_loss: 0.2926\n",
            "Epoch 15/30\n",
            "407/407 [==============================] - 1s 3ms/step - loss: 0.3002 - val_loss: 0.3061\n",
            "Epoch 16/30\n",
            "407/407 [==============================] - 1s 3ms/step - loss: 0.2950 - val_loss: 0.2915\n",
            "Epoch 17/30\n",
            "407/407 [==============================] - 1s 3ms/step - loss: 0.2950 - val_loss: 0.2790\n",
            "Epoch 18/30\n",
            "407/407 [==============================] - 1s 3ms/step - loss: 0.2928 - val_loss: 0.2974\n",
            "Epoch 19/30\n",
            "407/407 [==============================] - 1s 3ms/step - loss: 0.2960 - val_loss: 0.2872\n",
            "Epoch 20/30\n",
            "407/407 [==============================] - 1s 3ms/step - loss: 0.2845 - val_loss: 0.2864\n",
            "Epoch 21/30\n",
            "407/407 [==============================] - 1s 3ms/step - loss: 0.2988 - val_loss: 0.2882\n",
            "Epoch 22/30\n",
            "407/407 [==============================] - 1s 4ms/step - loss: 0.2831 - val_loss: 0.2872\n",
            "Epoch 23/30\n",
            "407/407 [==============================] - 1s 3ms/step - loss: 0.2896 - val_loss: 0.2947\n",
            "Epoch 24/30\n",
            "407/407 [==============================] - 1s 3ms/step - loss: 0.2937 - val_loss: 0.2971\n",
            "Epoch 25/30\n",
            "407/407 [==============================] - 1s 3ms/step - loss: 0.3005 - val_loss: 0.2795\n",
            "Epoch 26/30\n",
            "407/407 [==============================] - 1s 3ms/step - loss: 0.2720 - val_loss: 0.2789\n",
            "Epoch 27/30\n",
            "407/407 [==============================] - 1s 3ms/step - loss: 0.2788 - val_loss: 0.2722\n",
            "Epoch 28/30\n",
            "407/407 [==============================] - 1s 3ms/step - loss: 0.2881 - val_loss: 0.2720\n",
            "Epoch 29/30\n",
            "407/407 [==============================] - 1s 3ms/step - loss: 0.2755 - val_loss: 0.2740\n",
            "Epoch 30/30\n",
            "407/407 [==============================] - 1s 3ms/step - loss: 0.2803 - val_loss: 0.2849\n"
          ],
          "name": "stdout"
        }
      ]
    },
    {
      "cell_type": "code",
      "metadata": {
        "colab": {
          "base_uri": "https://localhost:8080/",
          "height": 334
        },
        "id": "NzD0mNfnGR_X",
        "outputId": "bdd93ebc-86c2-4f91-c369-ca88f9936496"
      },
      "source": [
        "pd.DataFrame ( history.history ).plot ( figsize = ( 8 , 5 ) )\n",
        "plt.grid ( True )\n",
        "plt.xlabel ( \"Epochs\" )\n",
        "plt.show ( )"
      ],
      "execution_count": 64,
      "outputs": [
        {
          "output_type": "display_data",
          "data": {
            "image/png": "[encoded data removed]",
            "text/plain": [
              "<Figure size 576x360 with 1 Axes>"
            ]
          },
          "metadata": {
            "tags": [],
            "needs_background": "light"
          }
        }
      ]
    },
    {
      "cell_type": "markdown",
      "metadata": {
        "id": "CtpFpqjxIwuW"
      },
      "source": [
        "### Model Evaluation"
      ]
    },
    {
      "cell_type": "code",
      "metadata": {
        "colab": {
          "base_uri": "https://localhost:8080/"
        },
        "id": "eytpXH_wGtBF",
        "outputId": "c15175f0-8302-45b4-9f59-3497d9cc8119"
      },
      "source": [
        "print ( model.evaluate ( X_test , y_test ) )"
      ],
      "execution_count": 70,
      "outputs": [
        {
          "output_type": "stream",
          "text": [
            "194/194 [==============================] - 0s 2ms/step - loss: 0.2808\n",
            "0.2807735502719879\n"
          ],
          "name": "stdout"
        }
      ]
    },
    {
      "cell_type": "markdown",
      "metadata": {
        "id": "zGC3WeA4JP3Q"
      },
      "source": [
        "### Predicting the first 5 test samples"
      ]
    },
    {
      "cell_type": "code",
      "metadata": {
        "colab": {
          "base_uri": "https://localhost:8080/"
        },
        "id": "V75uz02NI27I",
        "outputId": "a346f048-b742-4a1c-d93a-65598fc88a6a"
      },
      "source": [
        "print ( model.predict ( X_test [ : 5 ] ) )"
      ],
      "execution_count": 76,
      "outputs": [
        {
          "output_type": "stream",
          "text": [
            "[[1.0334992]\n",
            " [1.2131063]\n",
            " [0.8198099]\n",
            " [4.357898 ]\n",
            " [1.9076056]]\n"
          ],
          "name": "stdout"
        }
      ]
    },
    {
      "cell_type": "markdown",
      "metadata": {
        "id": "yAyMugGWKw9V"
      },
      "source": [
        "### Altering the learning rate, checkpointing the best model and early stopping"
      ]
    },
    {
      "cell_type": "code",
      "metadata": {
        "colab": {
          "base_uri": "https://localhost:8080/"
        },
        "id": "xHViD8IgJJZB",
        "outputId": "2d6fd247-6b1c-467f-87ce-0125f640440f"
      },
      "source": [
        "model.compile ( loss = \"mse\" , optimizer = tf.keras.optimizers.Adam ( learning_rate = 1e-03 ) )\n",
        "earlystop = tf.keras.callbacks.EarlyStopping ( patience = 10 , restore_best_weights = True )\n",
        "checkpoint = tf.keras.callbacks.ModelCheckpoint ( \"Best_Model.h5\" , save_best_only = True )\n",
        "history = model.fit ( X_train , y_train , \n",
        "                     validation_data = ( X_valid , y_valid ) , \n",
        "                     epochs = 100 , callbacks = [ checkpoint , earlystop ] )"
      ],
      "execution_count": 81,
      "outputs": [
        {
          "output_type": "stream",
          "text": [
            "Epoch 1/100\n",
            "407/407 [==============================] - 2s 4ms/step - loss: 0.2416 - val_loss: 0.2631\n",
            "Epoch 2/100\n",
            "407/407 [==============================] - 1s 3ms/step - loss: 0.2565 - val_loss: 0.2712\n",
            "Epoch 3/100\n",
            "407/407 [==============================] - 1s 3ms/step - loss: 0.2444 - val_loss: 0.2815\n",
            "Epoch 4/100\n",
            "407/407 [==============================] - 1s 3ms/step - loss: 0.2467 - val_loss: 0.2840\n",
            "Epoch 5/100\n",
            "407/407 [==============================] - 1s 3ms/step - loss: 0.2526 - val_loss: 0.2730\n",
            "Epoch 6/100\n",
            "407/407 [==============================] - 1s 3ms/step - loss: 0.2459 - val_loss: 0.2616\n",
            "Epoch 7/100\n",
            "407/407 [==============================] - 1s 3ms/step - loss: 0.2456 - val_loss: 0.2734\n",
            "Epoch 8/100\n",
            "407/407 [==============================] - 1s 3ms/step - loss: 0.2549 - val_loss: 0.2640\n",
            "Epoch 9/100\n",
            "407/407 [==============================] - 1s 3ms/step - loss: 0.2461 - val_loss: 0.2625\n",
            "Epoch 10/100\n",
            "407/407 [==============================] - 1s 3ms/step - loss: 0.2482 - val_loss: 0.2567\n",
            "Epoch 11/100\n",
            "407/407 [==============================] - 1s 3ms/step - loss: 0.2419 - val_loss: 0.2660\n",
            "Epoch 12/100\n",
            "407/407 [==============================] - 1s 3ms/step - loss: 0.2422 - val_loss: 0.2652\n",
            "Epoch 13/100\n",
            "407/407 [==============================] - 1s 4ms/step - loss: 0.2355 - val_loss: 0.2806\n",
            "Epoch 14/100\n",
            "407/407 [==============================] - 1s 3ms/step - loss: 0.2425 - val_loss: 0.2715\n",
            "Epoch 15/100\n",
            "407/407 [==============================] - 1s 3ms/step - loss: 0.2476 - val_loss: 0.2593\n",
            "Epoch 16/100\n",
            "407/407 [==============================] - 1s 3ms/step - loss: 0.2401 - val_loss: 0.2619\n",
            "Epoch 17/100\n",
            "407/407 [==============================] - 1s 3ms/step - loss: 0.2351 - val_loss: 0.2756\n",
            "Epoch 18/100\n",
            "407/407 [==============================] - 2s 4ms/step - loss: 0.2415 - val_loss: 0.2714\n",
            "Epoch 19/100\n",
            "407/407 [==============================] - 1s 3ms/step - loss: 0.2412 - val_loss: 0.2896\n",
            "Epoch 20/100\n",
            "407/407 [==============================] - 1s 3ms/step - loss: 0.2374 - val_loss: 0.2675\n"
          ],
          "name": "stdout"
        }
      ]
    },
    {
      "cell_type": "code",
      "metadata": {
        "colab": {
          "base_uri": "https://localhost:8080/",
          "height": 334
        },
        "id": "tKSvoxKcM4Cv",
        "outputId": "9e20e1ac-d320-4e7a-f4ea-00475276521d"
      },
      "source": [
        "pd.DataFrame ( history.history ).plot ( figsize = ( 8 , 5 ) )\n",
        "plt.xlabel ( \"Epochs\" )\n",
        "plt.grid ( True )\n",
        "plt.show ( )"
      ],
      "execution_count": 82,
      "outputs": [
        {
          "output_type": "display_data",
          "data": {
            "image/png": "[encoded data removed]",
            "text/plain": [
              "<Figure size 576x360 with 1 Axes>"
            ]
          },
          "metadata": {
            "tags": [],
            "needs_background": "light"
          }
        }
      ]
    },
    {
      "cell_type": "code",
      "metadata": {
        "colab": {
          "base_uri": "https://localhost:8080/"
        },
        "id": "FgF8r5T_JMJc",
        "outputId": "9c4d21dd-8465-4ab2-955f-b86d941d16e8"
      },
      "source": [
        "# Loading the best model\n",
        "model = tf.keras.models.load_model ( \"Best_Model.h5\"  )\n",
        "model.evaluate ( X_test , y_test )"
      ],
      "execution_count": 83,
      "outputs": [
        {
          "output_type": "stream",
          "text": [
            "194/194 [==============================] - 0s 2ms/step - loss: 0.2554\n"
          ],
          "name": "stdout"
        },
        {
          "output_type": "execute_result",
          "data": {
            "text/plain": [
              "0.2554281949996948"
            ]
          },
          "metadata": {
            "tags": []
          },
          "execution_count": 83
        }
      ]
    },
    {
      "cell_type": "code",
      "metadata": {
        "id": "AqtkCedpQbD7"
      },
      "source": [
        ""
      ],
      "execution_count": null,
      "outputs": []
    }
  ]
}