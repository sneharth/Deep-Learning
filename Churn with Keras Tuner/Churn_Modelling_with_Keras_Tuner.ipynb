{
  "nbformat": 4,
  "nbformat_minor": 0,
  "metadata": {
    "colab": {
      "name": "Churn Modelling with Keras Tuner.ipynb",
      "provenance": [],
      "collapsed_sections": []
    },
    "kernelspec": {
      "name": "python3",
      "display_name": "Python 3"
    },
    "accelerator": "GPU"
  },
  "cells": [
    {
      "cell_type": "markdown",
      "metadata": {
        "id": "TkaMMNoEtNEv"
      },
      "source": [
        "### Downloading Keras Tuner"
      ]
    },
    {
      "cell_type": "code",
      "metadata": {
        "colab": {
          "base_uri": "https://localhost:8080/"
        },
        "id": "bfrZxMlBtJqj",
        "outputId": "702bb456-66b0-473a-9669-8a3672f351f4"
      },
      "source": [
        "!pip install -q -U keras-tuner"
      ],
      "execution_count": 1,
      "outputs": [
        {
          "output_type": "stream",
          "text": [
            "\u001b[?25l\r\u001b[K     |█████▏                          | 10kB 21.2MB/s eta 0:00:01\r\u001b[K     |██████████▍                     | 20kB 24.5MB/s eta 0:00:01\r\u001b[K     |███████████████▋                | 30kB 13.9MB/s eta 0:00:01\r\u001b[K     |████████████████████▉           | 40kB 3.6MB/s eta 0:00:01\r\u001b[K     |██████████████████████████      | 51kB 4.4MB/s eta 0:00:01\r\u001b[K     |███████████████████████████████▎| 61kB 5.0MB/s eta 0:00:01\r\u001b[K     |████████████████████████████████| 71kB 3.9MB/s \n",
            "\u001b[?25h  Building wheel for keras-tuner (setup.py) ... \u001b[?25l\u001b[?25hdone\n",
            "  Building wheel for terminaltables (setup.py) ... \u001b[?25l\u001b[?25hdone\n"
          ],
          "name": "stdout"
        }
      ]
    },
    {
      "cell_type": "markdown",
      "metadata": {
        "id": "KaSoa3QA07GX"
      },
      "source": [
        "### Importing necessary libraries"
      ]
    },
    {
      "cell_type": "code",
      "metadata": {
        "id": "S52AUBkM0vQo"
      },
      "source": [
        "import pandas as pd\n",
        "import matplotlib.pyplot as plt\n",
        "import seaborn as sns\n",
        "from sklearn.model_selection import train_test_split\n",
        "from sklearn.preprocessing import StandardScaler\n",
        "import tensorflow as tf\n",
        "from sklearn.metrics import confusion_matrix\n",
        "from tensorflow import keras\n",
        "from tensorflow.keras.layers import Dense\n",
        "from kerastuner.tuners import RandomSearch"
      ],
      "execution_count": 2,
      "outputs": []
    },
    {
      "cell_type": "markdown",
      "metadata": {
        "id": "e9Qrg9Ch3pGV"
      },
      "source": [
        "### Checking for CPU/GPU"
      ]
    },
    {
      "cell_type": "code",
      "metadata": {
        "colab": {
          "base_uri": "https://localhost:8080/"
        },
        "id": "l7OL1THF3mXr",
        "outputId": "58c9b4d0-e558-4072-e081-94e6075663af"
      },
      "source": [
        "devices = [ \"CPU\" , \"GPU\" ]\n",
        "for device in devices:\n",
        "  out = tf.config.list_physical_devices ( device )\n",
        "  if len ( out ) > 0:\n",
        "    print ( device , \"is available.\" )\n",
        "    print ( device )\n",
        "  else:\n",
        "    print ( device , \"is not available.\" )"
      ],
      "execution_count": 3,
      "outputs": [
        {
          "output_type": "stream",
          "text": [
            "CPU is available.\n",
            "CPU\n",
            "GPU is available.\n",
            "GPU\n"
          ],
          "name": "stdout"
        }
      ]
    },
    {
      "cell_type": "markdown",
      "metadata": {
        "id": "tuMZMK2530lL"
      },
      "source": [
        "### Checking the GPU configuration"
      ]
    },
    {
      "cell_type": "code",
      "metadata": {
        "colab": {
          "base_uri": "https://localhost:8080/"
        },
        "id": "cNtedkYL3zao",
        "outputId": "9928799b-03cf-4bee-f934-dcd29aa71658"
      },
      "source": [
        "!nvidia-smi"
      ],
      "execution_count": 4,
      "outputs": [
        {
          "output_type": "stream",
          "text": [
            "Thu Jan 28 15:35:11 2021       \n",
            "+-----------------------------------------------------------------------------+\n",
            "| NVIDIA-SMI 460.32.03    Driver Version: 418.67       CUDA Version: 10.1     |\n",
            "|-------------------------------+----------------------+----------------------+\n",
            "| GPU  Name        Persistence-M| Bus-Id        Disp.A | Volatile Uncorr. ECC |\n",
            "| Fan  Temp  Perf  Pwr:Usage/Cap|         Memory-Usage | GPU-Util  Compute M. |\n",
            "|                               |                      |               MIG M. |\n",
            "|===============================+======================+======================|\n",
            "|   0  Tesla P100-PCIE...  Off  | 00000000:00:04.0 Off |                    0 |\n",
            "| N/A   34C    P0    25W / 250W |     10MiB / 16280MiB |      0%      Default |\n",
            "|                               |                      |                 ERR! |\n",
            "+-------------------------------+----------------------+----------------------+\n",
            "                                                                               \n",
            "+-----------------------------------------------------------------------------+\n",
            "| Processes:                                                                  |\n",
            "|  GPU   GI   CI        PID   Type   Process name                  GPU Memory |\n",
            "|        ID   ID                                                   Usage      |\n",
            "|=============================================================================|\n",
            "|  No running processes found                                                 |\n",
            "+-----------------------------------------------------------------------------+\n"
          ],
          "name": "stdout"
        }
      ]
    },
    {
      "cell_type": "markdown",
      "metadata": {
        "id": "fyJOUKE437bv"
      },
      "source": [
        "### Importing and viewing the Churn data"
      ]
    },
    {
      "cell_type": "code",
      "metadata": {
        "id": "Mu4m8p3Z35HI"
      },
      "source": [
        "data = pd.read_csv ( \"/content/Churn_Modelling.csv\" )"
      ],
      "execution_count": 5,
      "outputs": []
    },
    {
      "cell_type": "code",
      "metadata": {
        "colab": {
          "base_uri": "https://localhost:8080/",
          "height": 224
        },
        "id": "2VI4tYpC4ETv",
        "outputId": "7c1dffc0-c0c5-4ea6-815f-09beb94dd72f"
      },
      "source": [
        "data.head ( )"
      ],
      "execution_count": 6,
      "outputs": [
        {
          "output_type": "execute_result",
          "data": {
            "text/html": [
              "<div>\n",
              "<style scoped>\n",
              "    .dataframe tbody tr th:only-of-type {\n",
              "        vertical-align: middle;\n",
              "    }\n",
              "\n",
              "    .dataframe tbody tr th {\n",
              "        vertical-align: top;\n",
              "    }\n",
              "\n",
              "    .dataframe thead th {\n",
              "        text-align: right;\n",
              "    }\n",
              "</style>\n",
              "<table border=\"1\" class=\"dataframe\">\n",
              "  <thead>\n",
              "    <tr style=\"text-align: right;\">\n",
              "      <th></th>\n",
              "      <th>RowNumber</th>\n",
              "      <th>CustomerId</th>\n",
              "      <th>Surname</th>\n",
              "      <th>CreditScore</th>\n",
              "      <th>Geography</th>\n",
              "      <th>Gender</th>\n",
              "      <th>Age</th>\n",
              "      <th>Tenure</th>\n",
              "      <th>Balance</th>\n",
              "      <th>NumOfProducts</th>\n",
              "      <th>HasCrCard</th>\n",
              "      <th>IsActiveMember</th>\n",
              "      <th>EstimatedSalary</th>\n",
              "      <th>Exited</th>\n",
              "    </tr>\n",
              "  </thead>\n",
              "  <tbody>\n",
              "    <tr>\n",
              "      <th>0</th>\n",
              "      <td>1</td>\n",
              "      <td>15634602</td>\n",
              "      <td>Hargrave</td>\n",
              "      <td>619</td>\n",
              "      <td>France</td>\n",
              "      <td>Female</td>\n",
              "      <td>42</td>\n",
              "      <td>2</td>\n",
              "      <td>0.00</td>\n",
              "      <td>1</td>\n",
              "      <td>1</td>\n",
              "      <td>1</td>\n",
              "      <td>101348.88</td>\n",
              "      <td>1</td>\n",
              "    </tr>\n",
              "    <tr>\n",
              "      <th>1</th>\n",
              "      <td>2</td>\n",
              "      <td>15647311</td>\n",
              "      <td>Hill</td>\n",
              "      <td>608</td>\n",
              "      <td>Spain</td>\n",
              "      <td>Female</td>\n",
              "      <td>41</td>\n",
              "      <td>1</td>\n",
              "      <td>83807.86</td>\n",
              "      <td>1</td>\n",
              "      <td>0</td>\n",
              "      <td>1</td>\n",
              "      <td>112542.58</td>\n",
              "      <td>0</td>\n",
              "    </tr>\n",
              "    <tr>\n",
              "      <th>2</th>\n",
              "      <td>3</td>\n",
              "      <td>15619304</td>\n",
              "      <td>Onio</td>\n",
              "      <td>502</td>\n",
              "      <td>France</td>\n",
              "      <td>Female</td>\n",
              "      <td>42</td>\n",
              "      <td>8</td>\n",
              "      <td>159660.80</td>\n",
              "      <td>3</td>\n",
              "      <td>1</td>\n",
              "      <td>0</td>\n",
              "      <td>113931.57</td>\n",
              "      <td>1</td>\n",
              "    </tr>\n",
              "    <tr>\n",
              "      <th>3</th>\n",
              "      <td>4</td>\n",
              "      <td>15701354</td>\n",
              "      <td>Boni</td>\n",
              "      <td>699</td>\n",
              "      <td>France</td>\n",
              "      <td>Female</td>\n",
              "      <td>39</td>\n",
              "      <td>1</td>\n",
              "      <td>0.00</td>\n",
              "      <td>2</td>\n",
              "      <td>0</td>\n",
              "      <td>0</td>\n",
              "      <td>93826.63</td>\n",
              "      <td>0</td>\n",
              "    </tr>\n",
              "    <tr>\n",
              "      <th>4</th>\n",
              "      <td>5</td>\n",
              "      <td>15737888</td>\n",
              "      <td>Mitchell</td>\n",
              "      <td>850</td>\n",
              "      <td>Spain</td>\n",
              "      <td>Female</td>\n",
              "      <td>43</td>\n",
              "      <td>2</td>\n",
              "      <td>125510.82</td>\n",
              "      <td>1</td>\n",
              "      <td>1</td>\n",
              "      <td>1</td>\n",
              "      <td>79084.10</td>\n",
              "      <td>0</td>\n",
              "    </tr>\n",
              "  </tbody>\n",
              "</table>\n",
              "</div>"
            ],
            "text/plain": [
              "   RowNumber  CustomerId   Surname  ...  IsActiveMember EstimatedSalary Exited\n",
              "0          1    15634602  Hargrave  ...               1       101348.88      1\n",
              "1          2    15647311      Hill  ...               1       112542.58      0\n",
              "2          3    15619304      Onio  ...               0       113931.57      1\n",
              "3          4    15701354      Boni  ...               0        93826.63      0\n",
              "4          5    15737888  Mitchell  ...               1        79084.10      0\n",
              "\n",
              "[5 rows x 14 columns]"
            ]
          },
          "metadata": {
            "tags": []
          },
          "execution_count": 6
        }
      ]
    },
    {
      "cell_type": "markdown",
      "metadata": {
        "id": "4sxEDPe-4Mxn"
      },
      "source": [
        "### Splitting the data into X and y"
      ]
    },
    {
      "cell_type": "code",
      "metadata": {
        "id": "svWLziwP4F4b"
      },
      "source": [
        "X = data.drop ( \"Exited\" , axis = 1 )\n",
        "y = data [ \"Exited\" ]"
      ],
      "execution_count": 7,
      "outputs": []
    },
    {
      "cell_type": "markdown",
      "metadata": {
        "id": "RLyAcjX04oZn"
      },
      "source": [
        "### Dimensions of data"
      ]
    },
    {
      "cell_type": "code",
      "metadata": {
        "colab": {
          "base_uri": "https://localhost:8080/"
        },
        "id": "-7K2Y6oV4oIB",
        "outputId": "ced8cdfd-dd9f-4173-ccfc-c93471007f1e"
      },
      "source": [
        "print ( \"Rows: {}\\tColumns: {}\" .format ( data.shape [ 0 ] , data.shape [ 1 ] ) )"
      ],
      "execution_count": 8,
      "outputs": [
        {
          "output_type": "stream",
          "text": [
            "Rows: 10000\tColumns: 14\n"
          ],
          "name": "stdout"
        }
      ]
    },
    {
      "cell_type": "markdown",
      "metadata": {
        "id": "Z9RhHPNa4ZbJ"
      },
      "source": [
        "### Checking the null values"
      ]
    },
    {
      "cell_type": "code",
      "metadata": {
        "colab": {
          "base_uri": "https://localhost:8080/"
        },
        "id": "3bkYJAa04YYK",
        "outputId": "0256dea0-e5ae-40e8-af60-0b557c2d068a"
      },
      "source": [
        "data.isnull ( ).sum ( )"
      ],
      "execution_count": 9,
      "outputs": [
        {
          "output_type": "execute_result",
          "data": {
            "text/plain": [
              "RowNumber          0\n",
              "CustomerId         0\n",
              "Surname            0\n",
              "CreditScore        0\n",
              "Geography          0\n",
              "Gender             0\n",
              "Age                0\n",
              "Tenure             0\n",
              "Balance            0\n",
              "NumOfProducts      0\n",
              "HasCrCard          0\n",
              "IsActiveMember     0\n",
              "EstimatedSalary    0\n",
              "Exited             0\n",
              "dtype: int64"
            ]
          },
          "metadata": {
            "tags": []
          },
          "execution_count": 9
        }
      ]
    },
    {
      "cell_type": "markdown",
      "metadata": {
        "id": "03ux9TfU4hXC"
      },
      "source": [
        "### Information related to features"
      ]
    },
    {
      "cell_type": "code",
      "metadata": {
        "colab": {
          "base_uri": "https://localhost:8080/"
        },
        "id": "y-xl0whx4fbe",
        "outputId": "8174367e-5a15-44f6-b696-906d3eae764b"
      },
      "source": [
        "data.info ( )"
      ],
      "execution_count": 10,
      "outputs": [
        {
          "output_type": "stream",
          "text": [
            "<class 'pandas.core.frame.DataFrame'>\n",
            "RangeIndex: 10000 entries, 0 to 9999\n",
            "Data columns (total 14 columns):\n",
            " #   Column           Non-Null Count  Dtype  \n",
            "---  ------           --------------  -----  \n",
            " 0   RowNumber        10000 non-null  int64  \n",
            " 1   CustomerId       10000 non-null  int64  \n",
            " 2   Surname          10000 non-null  object \n",
            " 3   CreditScore      10000 non-null  int64  \n",
            " 4   Geography        10000 non-null  object \n",
            " 5   Gender           10000 non-null  object \n",
            " 6   Age              10000 non-null  int64  \n",
            " 7   Tenure           10000 non-null  int64  \n",
            " 8   Balance          10000 non-null  float64\n",
            " 9   NumOfProducts    10000 non-null  int64  \n",
            " 10  HasCrCard        10000 non-null  int64  \n",
            " 11  IsActiveMember   10000 non-null  int64  \n",
            " 12  EstimatedSalary  10000 non-null  float64\n",
            " 13  Exited           10000 non-null  int64  \n",
            "dtypes: float64(2), int64(9), object(3)\n",
            "memory usage: 1.1+ MB\n"
          ],
          "name": "stdout"
        }
      ]
    },
    {
      "cell_type": "markdown",
      "metadata": {
        "id": "KHxfYdi95DL5"
      },
      "source": [
        "### Dropping the unnecessary columns"
      ]
    },
    {
      "cell_type": "code",
      "metadata": {
        "id": "yhXVQBH94lja"
      },
      "source": [
        "X.drop ( [ \"RowNumber\" , \"CustomerId\" , \"Surname\" ] , axis = 1 , inplace = True )"
      ],
      "execution_count": 11,
      "outputs": []
    },
    {
      "cell_type": "markdown",
      "metadata": {
        "id": "fhL34KGI7UmP"
      },
      "source": [
        "### Creating dummies for Geography and Gender"
      ]
    },
    {
      "cell_type": "code",
      "metadata": {
        "colab": {
          "base_uri": "https://localhost:8080/",
          "height": 224
        },
        "id": "nG6Ys-q25QWM",
        "outputId": "8de1402d-9d73-45f5-9660-e3b9ce7bc7e3"
      },
      "source": [
        "X = pd.get_dummies ( X , columns = [ \"Geography\" , \"Gender\" ] , drop_first = True )\n",
        "X.head ( )"
      ],
      "execution_count": 12,
      "outputs": [
        {
          "output_type": "execute_result",
          "data": {
            "text/html": [
              "<div>\n",
              "<style scoped>\n",
              "    .dataframe tbody tr th:only-of-type {\n",
              "        vertical-align: middle;\n",
              "    }\n",
              "\n",
              "    .dataframe tbody tr th {\n",
              "        vertical-align: top;\n",
              "    }\n",
              "\n",
              "    .dataframe thead th {\n",
              "        text-align: right;\n",
              "    }\n",
              "</style>\n",
              "<table border=\"1\" class=\"dataframe\">\n",
              "  <thead>\n",
              "    <tr style=\"text-align: right;\">\n",
              "      <th></th>\n",
              "      <th>CreditScore</th>\n",
              "      <th>Age</th>\n",
              "      <th>Tenure</th>\n",
              "      <th>Balance</th>\n",
              "      <th>NumOfProducts</th>\n",
              "      <th>HasCrCard</th>\n",
              "      <th>IsActiveMember</th>\n",
              "      <th>EstimatedSalary</th>\n",
              "      <th>Geography_Germany</th>\n",
              "      <th>Geography_Spain</th>\n",
              "      <th>Gender_Male</th>\n",
              "    </tr>\n",
              "  </thead>\n",
              "  <tbody>\n",
              "    <tr>\n",
              "      <th>0</th>\n",
              "      <td>619</td>\n",
              "      <td>42</td>\n",
              "      <td>2</td>\n",
              "      <td>0.00</td>\n",
              "      <td>1</td>\n",
              "      <td>1</td>\n",
              "      <td>1</td>\n",
              "      <td>101348.88</td>\n",
              "      <td>0</td>\n",
              "      <td>0</td>\n",
              "      <td>0</td>\n",
              "    </tr>\n",
              "    <tr>\n",
              "      <th>1</th>\n",
              "      <td>608</td>\n",
              "      <td>41</td>\n",
              "      <td>1</td>\n",
              "      <td>83807.86</td>\n",
              "      <td>1</td>\n",
              "      <td>0</td>\n",
              "      <td>1</td>\n",
              "      <td>112542.58</td>\n",
              "      <td>0</td>\n",
              "      <td>1</td>\n",
              "      <td>0</td>\n",
              "    </tr>\n",
              "    <tr>\n",
              "      <th>2</th>\n",
              "      <td>502</td>\n",
              "      <td>42</td>\n",
              "      <td>8</td>\n",
              "      <td>159660.80</td>\n",
              "      <td>3</td>\n",
              "      <td>1</td>\n",
              "      <td>0</td>\n",
              "      <td>113931.57</td>\n",
              "      <td>0</td>\n",
              "      <td>0</td>\n",
              "      <td>0</td>\n",
              "    </tr>\n",
              "    <tr>\n",
              "      <th>3</th>\n",
              "      <td>699</td>\n",
              "      <td>39</td>\n",
              "      <td>1</td>\n",
              "      <td>0.00</td>\n",
              "      <td>2</td>\n",
              "      <td>0</td>\n",
              "      <td>0</td>\n",
              "      <td>93826.63</td>\n",
              "      <td>0</td>\n",
              "      <td>0</td>\n",
              "      <td>0</td>\n",
              "    </tr>\n",
              "    <tr>\n",
              "      <th>4</th>\n",
              "      <td>850</td>\n",
              "      <td>43</td>\n",
              "      <td>2</td>\n",
              "      <td>125510.82</td>\n",
              "      <td>1</td>\n",
              "      <td>1</td>\n",
              "      <td>1</td>\n",
              "      <td>79084.10</td>\n",
              "      <td>0</td>\n",
              "      <td>1</td>\n",
              "      <td>0</td>\n",
              "    </tr>\n",
              "  </tbody>\n",
              "</table>\n",
              "</div>"
            ],
            "text/plain": [
              "   CreditScore  Age  Tenure  ...  Geography_Germany  Geography_Spain  Gender_Male\n",
              "0          619   42       2  ...                  0                0            0\n",
              "1          608   41       1  ...                  0                1            0\n",
              "2          502   42       8  ...                  0                0            0\n",
              "3          699   39       1  ...                  0                0            0\n",
              "4          850   43       2  ...                  0                1            0\n",
              "\n",
              "[5 rows x 11 columns]"
            ]
          },
          "metadata": {
            "tags": []
          },
          "execution_count": 12
        }
      ]
    },
    {
      "cell_type": "markdown",
      "metadata": {
        "id": "9BC-_SeQ91rC"
      },
      "source": [
        "### Performing the Train-Test split"
      ]
    },
    {
      "cell_type": "code",
      "metadata": {
        "id": "T8bvH3El7nAz"
      },
      "source": [
        "X_train , X_test , y_train , y_test = train_test_split ( X , y , test_size = 0.2 , random_state = 37 )"
      ],
      "execution_count": 13,
      "outputs": []
    },
    {
      "cell_type": "markdown",
      "metadata": {
        "id": "yThMd1rm-J2L"
      },
      "source": [
        "### Scaling all the features using StandardScaler"
      ]
    },
    {
      "cell_type": "code",
      "metadata": {
        "id": "MSWNEXWz95x9"
      },
      "source": [
        "ss = StandardScaler ( )\n",
        "X_train = ss.fit_transform ( X_train )\n",
        "X_test = ss.transform ( X_test )"
      ],
      "execution_count": 14,
      "outputs": []
    },
    {
      "cell_type": "markdown",
      "metadata": {
        "id": "bh4SEm6UCuxA"
      },
      "source": [
        "### Creating an Artificial Neural Network (ANN)"
      ]
    },
    {
      "cell_type": "code",
      "metadata": {
        "id": "xDiWoqUc-kAA"
      },
      "source": [
        "layers = [ tf.keras.layers.Dense ( 10 , kernel_initializer = \"he_uniform\" , activation = \"relu\" , input_shape = X_train.shape [ 1 : ] ) ,\n",
        "          tf.keras.layers.Dense ( 10 , kernel_initializer = \"he_uniform\" , activation = \"relu\" ) , \n",
        "          tf.keras.layers.Dense ( 1 , kernel_initializer = \"glorot_uniform\" , activation = \"sigmoid\" ) ]\n",
        "model = tf.keras.models.Sequential ( layers )\n",
        "model.compile ( optimizer = \"adam\" , loss = \"binary_crossentropy\" , metrics = [ \"accuracy\" ] )"
      ],
      "execution_count": 15,
      "outputs": []
    },
    {
      "cell_type": "code",
      "metadata": {
        "colab": {
          "base_uri": "https://localhost:8080/"
        },
        "id": "4fiKmDzODtey",
        "outputId": "9eae189f-6eb5-4efa-b3ba-ad2d6a53b2dc"
      },
      "source": [
        "model.summary ( )"
      ],
      "execution_count": 16,
      "outputs": [
        {
          "output_type": "stream",
          "text": [
            "Model: \"sequential\"\n",
            "_________________________________________________________________\n",
            "Layer (type)                 Output Shape              Param #   \n",
            "=================================================================\n",
            "dense (Dense)                (None, 10)                120       \n",
            "_________________________________________________________________\n",
            "dense_1 (Dense)              (None, 10)                110       \n",
            "_________________________________________________________________\n",
            "dense_2 (Dense)              (None, 1)                 11        \n",
            "=================================================================\n",
            "Total params: 241\n",
            "Trainable params: 241\n",
            "Non-trainable params: 0\n",
            "_________________________________________________________________\n"
          ],
          "name": "stdout"
        }
      ]
    },
    {
      "cell_type": "code",
      "metadata": {
        "colab": {
          "base_uri": "https://localhost:8080/"
        },
        "id": "A7b98m_ND8jl",
        "outputId": "c7188677-7d76-4fa1-cd2b-6f4f919136b7"
      },
      "source": [
        "history = model.fit ( X_train , y_train , epochs = 50 , validation_split = 0.2 , batch_size = 100 )"
      ],
      "execution_count": 17,
      "outputs": [
        {
          "output_type": "stream",
          "text": [
            "Epoch 1/50\n",
            "64/64 [==============================] - 2s 7ms/step - loss: 1.7612 - accuracy: 0.2073 - val_loss: 1.1584 - val_accuracy: 0.2269\n",
            "Epoch 2/50\n",
            "64/64 [==============================] - 0s 2ms/step - loss: 1.0297 - accuracy: 0.2848 - val_loss: 0.7919 - val_accuracy: 0.4538\n",
            "Epoch 3/50\n",
            "64/64 [==============================] - 0s 4ms/step - loss: 0.7446 - accuracy: 0.5054 - val_loss: 0.6539 - val_accuracy: 0.6762\n",
            "Epoch 4/50\n",
            "64/64 [==============================] - 0s 2ms/step - loss: 0.6295 - accuracy: 0.7123 - val_loss: 0.5965 - val_accuracy: 0.7613\n",
            "Epoch 5/50\n",
            "64/64 [==============================] - 0s 2ms/step - loss: 0.5842 - accuracy: 0.7726 - val_loss: 0.5611 - val_accuracy: 0.7875\n",
            "Epoch 6/50\n",
            "64/64 [==============================] - 0s 2ms/step - loss: 0.5420 - accuracy: 0.7955 - val_loss: 0.5330 - val_accuracy: 0.7931\n",
            "Epoch 7/50\n",
            "64/64 [==============================] - 0s 3ms/step - loss: 0.5177 - accuracy: 0.7977 - val_loss: 0.5097 - val_accuracy: 0.7956\n",
            "Epoch 8/50\n",
            "64/64 [==============================] - 0s 2ms/step - loss: 0.4803 - accuracy: 0.8149 - val_loss: 0.4902 - val_accuracy: 0.8019\n",
            "Epoch 9/50\n",
            "64/64 [==============================] - 0s 2ms/step - loss: 0.4721 - accuracy: 0.8130 - val_loss: 0.4739 - val_accuracy: 0.8062\n",
            "Epoch 10/50\n",
            "64/64 [==============================] - 0s 2ms/step - loss: 0.4504 - accuracy: 0.8159 - val_loss: 0.4620 - val_accuracy: 0.8050\n",
            "Epoch 11/50\n",
            "64/64 [==============================] - 0s 2ms/step - loss: 0.4310 - accuracy: 0.8241 - val_loss: 0.4531 - val_accuracy: 0.8037\n",
            "Epoch 12/50\n",
            "64/64 [==============================] - 0s 3ms/step - loss: 0.4210 - accuracy: 0.8249 - val_loss: 0.4462 - val_accuracy: 0.8050\n",
            "Epoch 13/50\n",
            "64/64 [==============================] - 0s 2ms/step - loss: 0.4082 - accuracy: 0.8319 - val_loss: 0.4405 - val_accuracy: 0.8056\n",
            "Epoch 14/50\n",
            "64/64 [==============================] - 0s 2ms/step - loss: 0.4078 - accuracy: 0.8273 - val_loss: 0.4351 - val_accuracy: 0.8056\n",
            "Epoch 15/50\n",
            "64/64 [==============================] - 0s 2ms/step - loss: 0.3955 - accuracy: 0.8347 - val_loss: 0.4297 - val_accuracy: 0.8112\n",
            "Epoch 16/50\n",
            "64/64 [==============================] - 0s 2ms/step - loss: 0.3925 - accuracy: 0.8374 - val_loss: 0.4250 - val_accuracy: 0.8144\n",
            "Epoch 17/50\n",
            "64/64 [==============================] - 0s 2ms/step - loss: 0.3850 - accuracy: 0.8418 - val_loss: 0.4200 - val_accuracy: 0.8175\n",
            "Epoch 18/50\n",
            "64/64 [==============================] - 0s 2ms/step - loss: 0.3845 - accuracy: 0.8392 - val_loss: 0.4156 - val_accuracy: 0.8188\n",
            "Epoch 19/50\n",
            "64/64 [==============================] - 0s 2ms/step - loss: 0.3861 - accuracy: 0.8430 - val_loss: 0.4112 - val_accuracy: 0.8200\n",
            "Epoch 20/50\n",
            "64/64 [==============================] - 0s 2ms/step - loss: 0.3809 - accuracy: 0.8433 - val_loss: 0.4072 - val_accuracy: 0.8200\n",
            "Epoch 21/50\n",
            "64/64 [==============================] - 0s 2ms/step - loss: 0.3673 - accuracy: 0.8497 - val_loss: 0.4032 - val_accuracy: 0.8219\n",
            "Epoch 22/50\n",
            "64/64 [==============================] - 0s 2ms/step - loss: 0.3646 - accuracy: 0.8492 - val_loss: 0.3998 - val_accuracy: 0.8294\n",
            "Epoch 23/50\n",
            "64/64 [==============================] - 0s 2ms/step - loss: 0.3745 - accuracy: 0.8428 - val_loss: 0.3969 - val_accuracy: 0.8313\n",
            "Epoch 24/50\n",
            "64/64 [==============================] - 0s 2ms/step - loss: 0.3634 - accuracy: 0.8503 - val_loss: 0.3943 - val_accuracy: 0.8306\n",
            "Epoch 25/50\n",
            "64/64 [==============================] - 0s 2ms/step - loss: 0.3625 - accuracy: 0.8510 - val_loss: 0.3914 - val_accuracy: 0.8331\n",
            "Epoch 26/50\n",
            "64/64 [==============================] - 0s 2ms/step - loss: 0.3629 - accuracy: 0.8525 - val_loss: 0.3901 - val_accuracy: 0.8306\n",
            "Epoch 27/50\n",
            "64/64 [==============================] - 0s 3ms/step - loss: 0.3520 - accuracy: 0.8512 - val_loss: 0.3878 - val_accuracy: 0.8338\n",
            "Epoch 28/50\n",
            "64/64 [==============================] - 0s 2ms/step - loss: 0.3468 - accuracy: 0.8595 - val_loss: 0.3864 - val_accuracy: 0.8356\n",
            "Epoch 29/50\n",
            "64/64 [==============================] - 0s 2ms/step - loss: 0.3516 - accuracy: 0.8595 - val_loss: 0.3849 - val_accuracy: 0.8356\n",
            "Epoch 30/50\n",
            "64/64 [==============================] - 0s 3ms/step - loss: 0.3564 - accuracy: 0.8563 - val_loss: 0.3837 - val_accuracy: 0.8344\n",
            "Epoch 31/50\n",
            "64/64 [==============================] - 0s 2ms/step - loss: 0.3419 - accuracy: 0.8620 - val_loss: 0.3834 - val_accuracy: 0.8363\n",
            "Epoch 32/50\n",
            "64/64 [==============================] - 0s 2ms/step - loss: 0.3615 - accuracy: 0.8502 - val_loss: 0.3829 - val_accuracy: 0.8350\n",
            "Epoch 33/50\n",
            "64/64 [==============================] - 0s 2ms/step - loss: 0.3546 - accuracy: 0.8518 - val_loss: 0.3815 - val_accuracy: 0.8369\n",
            "Epoch 34/50\n",
            "64/64 [==============================] - 0s 2ms/step - loss: 0.3519 - accuracy: 0.8537 - val_loss: 0.3814 - val_accuracy: 0.8363\n",
            "Epoch 35/50\n",
            "64/64 [==============================] - 0s 2ms/step - loss: 0.3492 - accuracy: 0.8542 - val_loss: 0.3807 - val_accuracy: 0.8356\n",
            "Epoch 36/50\n",
            "64/64 [==============================] - 0s 2ms/step - loss: 0.3453 - accuracy: 0.8582 - val_loss: 0.3805 - val_accuracy: 0.8350\n",
            "Epoch 37/50\n",
            "64/64 [==============================] - 0s 2ms/step - loss: 0.3407 - accuracy: 0.8609 - val_loss: 0.3791 - val_accuracy: 0.8375\n",
            "Epoch 38/50\n",
            "64/64 [==============================] - 0s 2ms/step - loss: 0.3353 - accuracy: 0.8573 - val_loss: 0.3791 - val_accuracy: 0.8369\n",
            "Epoch 39/50\n",
            "64/64 [==============================] - 0s 2ms/step - loss: 0.3437 - accuracy: 0.8607 - val_loss: 0.3786 - val_accuracy: 0.8369\n",
            "Epoch 40/50\n",
            "64/64 [==============================] - 0s 2ms/step - loss: 0.3444 - accuracy: 0.8545 - val_loss: 0.3786 - val_accuracy: 0.8356\n",
            "Epoch 41/50\n",
            "64/64 [==============================] - 0s 2ms/step - loss: 0.3313 - accuracy: 0.8662 - val_loss: 0.3777 - val_accuracy: 0.8369\n",
            "Epoch 42/50\n",
            "64/64 [==============================] - 0s 2ms/step - loss: 0.3272 - accuracy: 0.8647 - val_loss: 0.3768 - val_accuracy: 0.8363\n",
            "Epoch 43/50\n",
            "64/64 [==============================] - 0s 2ms/step - loss: 0.3363 - accuracy: 0.8626 - val_loss: 0.3766 - val_accuracy: 0.8363\n",
            "Epoch 44/50\n",
            "64/64 [==============================] - 0s 2ms/step - loss: 0.3383 - accuracy: 0.8636 - val_loss: 0.3757 - val_accuracy: 0.8369\n",
            "Epoch 45/50\n",
            "64/64 [==============================] - 0s 3ms/step - loss: 0.3232 - accuracy: 0.8670 - val_loss: 0.3758 - val_accuracy: 0.8356\n",
            "Epoch 46/50\n",
            "64/64 [==============================] - 0s 3ms/step - loss: 0.3374 - accuracy: 0.8628 - val_loss: 0.3755 - val_accuracy: 0.8363\n",
            "Epoch 47/50\n",
            "64/64 [==============================] - 0s 2ms/step - loss: 0.3384 - accuracy: 0.8599 - val_loss: 0.3750 - val_accuracy: 0.8369\n",
            "Epoch 48/50\n",
            "64/64 [==============================] - 0s 4ms/step - loss: 0.3363 - accuracy: 0.8591 - val_loss: 0.3753 - val_accuracy: 0.8363\n",
            "Epoch 49/50\n",
            "64/64 [==============================] - 0s 3ms/step - loss: 0.3342 - accuracy: 0.8626 - val_loss: 0.3742 - val_accuracy: 0.8344\n",
            "Epoch 50/50\n",
            "64/64 [==============================] - 0s 2ms/step - loss: 0.3281 - accuracy: 0.8636 - val_loss: 0.3735 - val_accuracy: 0.8388\n"
          ],
          "name": "stdout"
        }
      ]
    },
    {
      "cell_type": "code",
      "metadata": {
        "colab": {
          "base_uri": "https://localhost:8080/",
          "height": 321
        },
        "id": "MEUPcU51E6gi",
        "outputId": "7ee34445-5db2-4393-e39b-89e35563062c"
      },
      "source": [
        "pd.DataFrame ( history.history ).plot ( figsize = ( 8 , 5 ) )\n",
        "plt.grid ( True )\n",
        "plt.show ( )"
      ],
      "execution_count": 18,
      "outputs": [
        {
          "output_type": "display_data",
          "data": {
            "image/png": "[encoded data removed]",
            "text/plain": [
              "<Figure size 576x360 with 1 Axes>"
            ]
          },
          "metadata": {
            "tags": [],
            "needs_background": "light"
          }
        }
      ]
    },
    {
      "cell_type": "markdown",
      "metadata": {
        "id": "pbKvOWXLFgl-"
      },
      "source": [
        "### Model Evaluation"
      ]
    },
    {
      "cell_type": "code",
      "metadata": {
        "colab": {
          "base_uri": "https://localhost:8080/"
        },
        "id": "QJY6_JxsFQub",
        "outputId": "f5022599-dd86-4d2a-e0d1-7bd1747101db"
      },
      "source": [
        "model.evaluate ( X_test , y_test )"
      ],
      "execution_count": 19,
      "outputs": [
        {
          "output_type": "stream",
          "text": [
            "63/63 [==============================] - 0s 2ms/step - loss: 0.3673 - accuracy: 0.8515\n"
          ],
          "name": "stdout"
        },
        {
          "output_type": "execute_result",
          "data": {
            "text/plain": [
              "[0.3673473000526428, 0.8514999747276306]"
            ]
          },
          "metadata": {
            "tags": []
          },
          "execution_count": 19
        }
      ]
    },
    {
      "cell_type": "markdown",
      "metadata": {
        "id": "gUcemoojFpBf"
      },
      "source": [
        "### Predicting the first 5 samples"
      ]
    },
    {
      "cell_type": "code",
      "metadata": {
        "colab": {
          "base_uri": "https://localhost:8080/"
        },
        "id": "cZ7S9PbeFmPA",
        "outputId": "4f665c69-415b-4a74-cf7b-b4d7ee9d7ab0"
      },
      "source": [
        "model.predict ( X_test [ : 5 ] )"
      ],
      "execution_count": 20,
      "outputs": [
        {
          "output_type": "execute_result",
          "data": {
            "text/plain": [
              "array([[0.25750652],\n",
              "       [0.25525156],\n",
              "       [0.99950254],\n",
              "       [0.01814072],\n",
              "       [0.79378307]], dtype=float32)"
            ]
          },
          "metadata": {
            "tags": []
          },
          "execution_count": 20
        }
      ]
    },
    {
      "cell_type": "code",
      "metadata": {
        "colab": {
          "base_uri": "https://localhost:8080/"
        },
        "id": "nqgluTHSFuY-",
        "outputId": "8fc336e3-42d9-49c5-e0e3-8a110c319f65"
      },
      "source": [
        "confusion_matrix ( y_test , model.predict ( X_test ) > 0.5 )"
      ],
      "execution_count": 21,
      "outputs": [
        {
          "output_type": "execute_result",
          "data": {
            "text/plain": [
              "array([[1524,   76],\n",
              "       [ 221,  179]])"
            ]
          },
          "metadata": {
            "tags": []
          },
          "execution_count": 21
        }
      ]
    },
    {
      "cell_type": "markdown",
      "metadata": {
        "id": "UGmbXKSWsozd"
      },
      "source": [
        "### Keras Tuner for hyperparameter optimization"
      ]
    },
    {
      "cell_type": "code",
      "metadata": {
        "id": "kubjjaP_GF_Z"
      },
      "source": [
        "def build_model ( hp ):\n",
        "  model = keras.Sequential ( )\n",
        "  for i in range ( hp.Int ( \"num_layers\" , 2 , 20 ) ):\n",
        "    model.add ( Dense ( units = hp.Int ( \"units_\" + str ( i ) , \n",
        "                                               min_value = 32 , \n",
        "                                               max_value = 512 , \n",
        "                                               step = 32 ) , \n",
        "                                               activation = \"relu\" ) )\n",
        "  model.add ( Dense ( 1 , activation = \"sigmoid\" ) )\n",
        "  model.compile ( loss = \"binary_crossentropy\" , \n",
        "                 metrics = [ \"accuracy\" ] , \n",
        "                 optimizer = keras.optimizers.Adam ( hp.Choice ( \"learning_rate\" , [ 1e-02 , 1e-3 , 1e-4 ] ) ) )\n",
        "  return model"
      ],
      "execution_count": 26,
      "outputs": []
    },
    {
      "cell_type": "code",
      "metadata": {
        "id": "nemLenL1wuVD"
      },
      "source": [
        "tuner = RandomSearch ( build_model , \n",
        "                      objective = \"val_accuracy\" , \n",
        "                      max_trials = 5 , \n",
        "                      executions_per_trial = 3 , \n",
        "                      directory = \"Logs\" , \n",
        "                      project_name = \"Churn\" )"
      ],
      "execution_count": 27,
      "outputs": []
    },
    {
      "cell_type": "code",
      "metadata": {
        "colab": {
          "base_uri": "https://localhost:8080/"
        },
        "id": "Etdm0zt60KIc",
        "outputId": "f5927ba8-af30-4274-894c-50b06600ee58"
      },
      "source": [
        "tuner.search_space_summary ( )"
      ],
      "execution_count": 28,
      "outputs": [
        {
          "output_type": "stream",
          "text": [
            "Search space summary\n",
            "Default search space size: 4\n",
            "num_layers (Int)\n",
            "{'default': None, 'conditions': [], 'min_value': 2, 'max_value': 20, 'step': 1, 'sampling': None}\n",
            "units_0 (Int)\n",
            "{'default': None, 'conditions': [], 'min_value': 32, 'max_value': 512, 'step': 32, 'sampling': None}\n",
            "units_1 (Int)\n",
            "{'default': None, 'conditions': [], 'min_value': 32, 'max_value': 512, 'step': 32, 'sampling': None}\n",
            "learning_rate (Choice)\n",
            "{'default': 0.01, 'conditions': [], 'values': [0.01, 0.001, 0.0001], 'ordered': True}\n"
          ],
          "name": "stdout"
        }
      ]
    },
    {
      "cell_type": "code",
      "metadata": {
        "colab": {
          "base_uri": "https://localhost:8080/"
        },
        "id": "h26oBW9f1McW",
        "outputId": "1d2b9867-e67e-4be4-8450-e0561ccf455e"
      },
      "source": [
        "tuner.search ( X_train , y_train , \n",
        "              epochs = 5 , \n",
        "              validation_data = ( X_test , y_test ) )"
      ],
      "execution_count": 29,
      "outputs": [
        {
          "output_type": "stream",
          "text": [
            "Trial 5 Complete [00h 00m 16s]\n",
            "val_accuracy: 0.8538333376248678\n",
            "\n",
            "Best val_accuracy So Far: 0.8565000096956888\n",
            "Total elapsed time: 00h 01m 05s\n",
            "INFO:tensorflow:Oracle triggered exit\n"
          ],
          "name": "stdout"
        }
      ]
    },
    {
      "cell_type": "code",
      "metadata": {
        "colab": {
          "base_uri": "https://localhost:8080/"
        },
        "id": "zL4pwqsv1oig",
        "outputId": "58b295a5-4549-4748-88d0-8db9bfc68b4f"
      },
      "source": [
        "tuner.results_summary ( )"
      ],
      "execution_count": 30,
      "outputs": [
        {
          "output_type": "stream",
          "text": [
            "Results summary\n",
            "Results in Logs/Churn\n",
            "Showing 10 best trials\n",
            "Objective(name='val_accuracy', direction='max')\n",
            "Trial summary\n",
            "Hyperparameters:\n",
            "num_layers: 5\n",
            "units_0: 224\n",
            "units_1: 192\n",
            "learning_rate: 0.0001\n",
            "units_2: 64\n",
            "units_3: 256\n",
            "units_4: 352\n",
            "units_5: 384\n",
            "units_6: 288\n",
            "units_7: 320\n",
            "units_8: 448\n",
            "units_9: 320\n",
            "Score: 0.8565000096956888\n",
            "Trial summary\n",
            "Hyperparameters:\n",
            "num_layers: 10\n",
            "units_0: 480\n",
            "units_1: 256\n",
            "learning_rate: 0.01\n",
            "units_2: 32\n",
            "units_3: 32\n",
            "units_4: 32\n",
            "units_5: 32\n",
            "units_6: 32\n",
            "units_7: 32\n",
            "units_8: 32\n",
            "units_9: 32\n",
            "Score: 0.8545000155766805\n",
            "Trial summary\n",
            "Hyperparameters:\n",
            "num_layers: 7\n",
            "units_0: 128\n",
            "units_1: 288\n",
            "learning_rate: 0.0001\n",
            "units_2: 160\n",
            "units_3: 512\n",
            "units_4: 32\n",
            "units_5: 480\n",
            "units_6: 416\n",
            "units_7: 96\n",
            "units_8: 416\n",
            "units_9: 128\n",
            "Score: 0.8538333376248678\n",
            "Trial summary\n",
            "Hyperparameters:\n",
            "num_layers: 16\n",
            "units_0: 480\n",
            "units_1: 288\n",
            "learning_rate: 0.001\n",
            "units_2: 128\n",
            "units_3: 320\n",
            "units_4: 352\n",
            "units_5: 352\n",
            "units_6: 384\n",
            "units_7: 64\n",
            "units_8: 32\n",
            "units_9: 64\n",
            "units_10: 32\n",
            "units_11: 32\n",
            "units_12: 32\n",
            "units_13: 32\n",
            "units_14: 32\n",
            "units_15: 32\n",
            "Score: 0.8538333376248678\n",
            "Trial summary\n",
            "Hyperparameters:\n",
            "num_layers: 8\n",
            "units_0: 256\n",
            "units_1: 448\n",
            "learning_rate: 0.001\n",
            "units_2: 224\n",
            "units_3: 64\n",
            "units_4: 160\n",
            "units_5: 512\n",
            "units_6: 512\n",
            "units_7: 32\n",
            "units_8: 256\n",
            "units_9: 96\n",
            "Score: 0.8533333341280619\n"
          ],
          "name": "stdout"
        }
      ]
    },
    {
      "cell_type": "markdown",
      "metadata": {
        "id": "HPPwjZqb-XbZ"
      },
      "source": [
        "### Downloading files as zip format"
      ]
    },
    {
      "cell_type": "code",
      "metadata": {
        "colab": {
          "base_uri": "https://localhost:8080/"
        },
        "id": "IusyOSKX2bap",
        "outputId": "1282557b-832b-47ee-e762-bbd091b3b991"
      },
      "source": [
        " !zip -r Logs.zip Logs/"
      ],
      "execution_count": 31,
      "outputs": [
        {
          "output_type": "stream",
          "text": [
            "  adding: Logs/ (stored 0%)\n",
            "  adding: Logs/Churn/ (stored 0%)\n",
            "  adding: Logs/Churn/trial_681054b7f34382f3db3ff038e1f96a90/ (stored 0%)\n",
            "  adding: Logs/Churn/trial_681054b7f34382f3db3ff038e1f96a90/checkpoints/ (stored 0%)\n",
            "  adding: Logs/Churn/trial_681054b7f34382f3db3ff038e1f96a90/checkpoints/epoch_0/ (stored 0%)\n",
            "  adding: Logs/Churn/trial_681054b7f34382f3db3ff038e1f96a90/checkpoints/epoch_0/checkpoint.data-00000-of-00001 (deflated 19%)\n",
            "  adding: Logs/Churn/trial_681054b7f34382f3db3ff038e1f96a90/checkpoints/epoch_0/checkpoint (deflated 48%)\n",
            "  adding: Logs/Churn/trial_681054b7f34382f3db3ff038e1f96a90/checkpoints/epoch_0/checkpoint.index (deflated 74%)\n",
            "  adding: Logs/Churn/trial_681054b7f34382f3db3ff038e1f96a90/trial.json (deflated 82%)\n",
            "  adding: Logs/Churn/trial_95e6c067032fd2c78ee7d78a1d8795fd/ (stored 0%)\n",
            "  adding: Logs/Churn/trial_95e6c067032fd2c78ee7d78a1d8795fd/checkpoints/ (stored 0%)\n",
            "  adding: Logs/Churn/trial_95e6c067032fd2c78ee7d78a1d8795fd/checkpoints/epoch_0/ (stored 0%)\n",
            "  adding: Logs/Churn/trial_95e6c067032fd2c78ee7d78a1d8795fd/checkpoints/epoch_0/checkpoint.data-00000-of-00001 (deflated 15%)\n",
            "  adding: Logs/Churn/trial_95e6c067032fd2c78ee7d78a1d8795fd/checkpoints/epoch_0/checkpoint (deflated 48%)\n",
            "  adding: Logs/Churn/trial_95e6c067032fd2c78ee7d78a1d8795fd/checkpoints/epoch_0/checkpoint.index (deflated 69%)\n",
            "  adding: Logs/Churn/trial_95e6c067032fd2c78ee7d78a1d8795fd/trial.json (deflated 81%)\n",
            "  adding: Logs/Churn/trial_694e2f4f25d9210b579353d1c8f9a3fe/ (stored 0%)\n",
            "  adding: Logs/Churn/trial_694e2f4f25d9210b579353d1c8f9a3fe/checkpoints/ (stored 0%)\n",
            "  adding: Logs/Churn/trial_694e2f4f25d9210b579353d1c8f9a3fe/checkpoints/epoch_0/ (stored 0%)\n",
            "  adding: Logs/Churn/trial_694e2f4f25d9210b579353d1c8f9a3fe/checkpoints/epoch_0/checkpoint.data-00000-of-00001 (deflated 8%)\n",
            "  adding: Logs/Churn/trial_694e2f4f25d9210b579353d1c8f9a3fe/checkpoints/epoch_0/checkpoint (deflated 48%)\n",
            "  adding: Logs/Churn/trial_694e2f4f25d9210b579353d1c8f9a3fe/checkpoints/epoch_0/checkpoint.index (deflated 67%)\n",
            "  adding: Logs/Churn/trial_694e2f4f25d9210b579353d1c8f9a3fe/trial.json (deflated 81%)\n",
            "  adding: Logs/Churn/oracle.json (deflated 86%)\n",
            "  adding: Logs/Churn/tuner0.json (stored 0%)\n",
            "  adding: Logs/Churn/trial_f4f4c163548617e3a85641cde18f8175/ (stored 0%)\n",
            "  adding: Logs/Churn/trial_f4f4c163548617e3a85641cde18f8175/checkpoints/ (stored 0%)\n",
            "  adding: Logs/Churn/trial_f4f4c163548617e3a85641cde18f8175/checkpoints/epoch_0/ (stored 0%)\n",
            "  adding: Logs/Churn/trial_f4f4c163548617e3a85641cde18f8175/checkpoints/epoch_0/checkpoint.data-00000-of-00001 (deflated 11%)\n",
            "  adding: Logs/Churn/trial_f4f4c163548617e3a85641cde18f8175/checkpoints/epoch_0/checkpoint (deflated 48%)\n",
            "  adding: Logs/Churn/trial_f4f4c163548617e3a85641cde18f8175/checkpoints/epoch_0/checkpoint.index (deflated 75%)\n",
            "  adding: Logs/Churn/trial_f4f4c163548617e3a85641cde18f8175/trial.json (deflated 85%)\n",
            "  adding: Logs/Churn/trial_bfbe42995acde0f96218a68b686fb119/ (stored 0%)\n",
            "  adding: Logs/Churn/trial_bfbe42995acde0f96218a68b686fb119/checkpoints/ (stored 0%)\n",
            "  adding: Logs/Churn/trial_bfbe42995acde0f96218a68b686fb119/checkpoints/epoch_0/ (stored 0%)\n",
            "  adding: Logs/Churn/trial_bfbe42995acde0f96218a68b686fb119/checkpoints/epoch_0/checkpoint.data-00000-of-00001 (deflated 10%)\n",
            "  adding: Logs/Churn/trial_bfbe42995acde0f96218a68b686fb119/checkpoints/epoch_0/checkpoint (deflated 48%)\n",
            "  adding: Logs/Churn/trial_bfbe42995acde0f96218a68b686fb119/checkpoints/epoch_0/checkpoint.index (deflated 69%)\n",
            "  adding: Logs/Churn/trial_bfbe42995acde0f96218a68b686fb119/trial.json (deflated 81%)\n"
          ],
          "name": "stdout"
        }
      ]
    },
    {
      "cell_type": "code",
      "metadata": {
        "id": "vLU302X7GFdq"
      },
      "source": [
        ""
      ],
      "execution_count": null,
      "outputs": []
    }
  ]
}