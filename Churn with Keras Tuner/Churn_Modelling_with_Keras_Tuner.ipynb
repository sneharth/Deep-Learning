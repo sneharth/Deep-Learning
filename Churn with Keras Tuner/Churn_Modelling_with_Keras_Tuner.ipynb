{
  "nbformat": 4,
  "nbformat_minor": 0,
  "metadata": {
    "colab": {
      "name": "Churn Modelling with Keras Tuner.ipynb",
      "provenance": [],
      "collapsed_sections": []
    },
    "kernelspec": {
      "name": "python3",
      "display_name": "Python 3"
    },
    "accelerator": "GPU"
  },
  "cells": [
    {
      "cell_type": "markdown",
      "metadata": {
        "id": "TkaMMNoEtNEv"
      },
      "source": [
        "### Downloading Keras Tuner"
      ]
    },
    {
      "cell_type": "code",
      "metadata": {
        "colab": {
          "base_uri": "https://localhost:8080/"
        },
        "id": "bfrZxMlBtJqj",
        "outputId": "89d34f2a-d9f6-4c09-9200-e24587f1608b"
      },
      "source": [
        "!pip install -q -U keras-tuner"
      ],
      "execution_count": 67,
      "outputs": [
        {
          "output_type": "stream",
          "text": [
            "\u001b[?25l\r\u001b[K     |█████▏                          | 10kB 27.7MB/s eta 0:00:01\r\u001b[K     |██████████▍                     | 20kB 14.2MB/s eta 0:00:01\r\u001b[K     |███████████████▋                | 30kB 9.5MB/s eta 0:00:01\r\u001b[K     |████████████████████▉           | 40kB 8.5MB/s eta 0:00:01\r\u001b[K     |██████████████████████████      | 51kB 7.1MB/s eta 0:00:01\r\u001b[K     |███████████████████████████████▎| 61kB 7.3MB/s eta 0:00:01\r\u001b[K     |████████████████████████████████| 71kB 5.6MB/s \n",
            "\u001b[?25h  Building wheel for keras-tuner (setup.py) ... \u001b[?25l\u001b[?25hdone\n",
            "  Building wheel for terminaltables (setup.py) ... \u001b[?25l\u001b[?25hdone\n"
          ],
          "name": "stdout"
        }
      ]
    },
    {
      "cell_type": "markdown",
      "metadata": {
        "id": "KaSoa3QA07GX"
      },
      "source": [
        "### Importing necessary libraries"
      ]
    },
    {
      "cell_type": "code",
      "metadata": {
        "id": "S52AUBkM0vQo"
      },
      "source": [
        "import pandas as pd\n",
        "import matplotlib.pyplot as plt\n",
        "import seaborn as sns\n",
        "from sklearn.model_selection import train_test_split\n",
        "from sklearn.preprocessing import StandardScaler\n",
        "import tensorflow as tf\n",
        "from sklearn.metrics import confusion_matrix\n",
        "from tensorflow import keras\n",
        "from tensorflow.keras import layers\n",
        "from kerastuner.tuners import RandomSearch"
      ],
      "execution_count": 69,
      "outputs": []
    },
    {
      "cell_type": "markdown",
      "metadata": {
        "id": "e9Qrg9Ch3pGV"
      },
      "source": [
        "### Checking for CPU/GPU"
      ]
    },
    {
      "cell_type": "code",
      "metadata": {
        "colab": {
          "base_uri": "https://localhost:8080/"
        },
        "id": "l7OL1THF3mXr",
        "outputId": "3ffc8438-8c2a-49ec-d447-02a27f376c13"
      },
      "source": [
        "devices = [ \"CPU\" , \"GPU\" ]\n",
        "for device in devices:\n",
        "  out = tf.config.list_physical_devices ( device )\n",
        "  if len ( out ) > 0:\n",
        "    print ( device , \"is available.\" )\n",
        "    print ( device )\n",
        "  else:\n",
        "    print ( device , \"is not available.\" )"
      ],
      "execution_count": 46,
      "outputs": [
        {
          "output_type": "stream",
          "text": [
            "CPU is available.\n",
            "CPU\n",
            "GPU is not available.\n"
          ],
          "name": "stdout"
        }
      ]
    },
    {
      "cell_type": "markdown",
      "metadata": {
        "id": "tuMZMK2530lL"
      },
      "source": [
        "### Checking the GPU configuration"
      ]
    },
    {
      "cell_type": "code",
      "metadata": {
        "colab": {
          "base_uri": "https://localhost:8080/"
        },
        "id": "cNtedkYL3zao",
        "outputId": "66531ac5-ffe3-476c-aaea-df46f66f3beb"
      },
      "source": [
        "!nvidia-smi"
      ],
      "execution_count": 47,
      "outputs": [
        {
          "output_type": "stream",
          "text": [
            "NVIDIA-SMI has failed because it couldn't communicate with the NVIDIA driver. Make sure that the latest NVIDIA driver is installed and running.\n",
            "\n"
          ],
          "name": "stdout"
        }
      ]
    },
    {
      "cell_type": "markdown",
      "metadata": {
        "id": "fyJOUKE437bv"
      },
      "source": [
        "### Importing and viewing the Churn data"
      ]
    },
    {
      "cell_type": "code",
      "metadata": {
        "id": "Mu4m8p3Z35HI"
      },
      "source": [
        "data = pd.read_csv ( \"/content/Churn_Modelling.csv\" )"
      ],
      "execution_count": 48,
      "outputs": []
    },
    {
      "cell_type": "code",
      "metadata": {
        "colab": {
          "base_uri": "https://localhost:8080/",
          "height": 224
        },
        "id": "2VI4tYpC4ETv",
        "outputId": "75b3893a-a8ad-4d67-f1a0-3eb991293d3c"
      },
      "source": [
        "data.head ( )"
      ],
      "execution_count": 49,
      "outputs": [
        {
          "output_type": "execute_result",
          "data": {
            "text/html": [
              "<div>\n",
              "<style scoped>\n",
              "    .dataframe tbody tr th:only-of-type {\n",
              "        vertical-align: middle;\n",
              "    }\n",
              "\n",
              "    .dataframe tbody tr th {\n",
              "        vertical-align: top;\n",
              "    }\n",
              "\n",
              "    .dataframe thead th {\n",
              "        text-align: right;\n",
              "    }\n",
              "</style>\n",
              "<table border=\"1\" class=\"dataframe\">\n",
              "  <thead>\n",
              "    <tr style=\"text-align: right;\">\n",
              "      <th></th>\n",
              "      <th>RowNumber</th>\n",
              "      <th>CustomerId</th>\n",
              "      <th>Surname</th>\n",
              "      <th>CreditScore</th>\n",
              "      <th>Geography</th>\n",
              "      <th>Gender</th>\n",
              "      <th>Age</th>\n",
              "      <th>Tenure</th>\n",
              "      <th>Balance</th>\n",
              "      <th>NumOfProducts</th>\n",
              "      <th>HasCrCard</th>\n",
              "      <th>IsActiveMember</th>\n",
              "      <th>EstimatedSalary</th>\n",
              "      <th>Exited</th>\n",
              "    </tr>\n",
              "  </thead>\n",
              "  <tbody>\n",
              "    <tr>\n",
              "      <th>0</th>\n",
              "      <td>1</td>\n",
              "      <td>15634602</td>\n",
              "      <td>Hargrave</td>\n",
              "      <td>619</td>\n",
              "      <td>France</td>\n",
              "      <td>Female</td>\n",
              "      <td>42</td>\n",
              "      <td>2</td>\n",
              "      <td>0.00</td>\n",
              "      <td>1</td>\n",
              "      <td>1</td>\n",
              "      <td>1</td>\n",
              "      <td>101348.88</td>\n",
              "      <td>1</td>\n",
              "    </tr>\n",
              "    <tr>\n",
              "      <th>1</th>\n",
              "      <td>2</td>\n",
              "      <td>15647311</td>\n",
              "      <td>Hill</td>\n",
              "      <td>608</td>\n",
              "      <td>Spain</td>\n",
              "      <td>Female</td>\n",
              "      <td>41</td>\n",
              "      <td>1</td>\n",
              "      <td>83807.86</td>\n",
              "      <td>1</td>\n",
              "      <td>0</td>\n",
              "      <td>1</td>\n",
              "      <td>112542.58</td>\n",
              "      <td>0</td>\n",
              "    </tr>\n",
              "    <tr>\n",
              "      <th>2</th>\n",
              "      <td>3</td>\n",
              "      <td>15619304</td>\n",
              "      <td>Onio</td>\n",
              "      <td>502</td>\n",
              "      <td>France</td>\n",
              "      <td>Female</td>\n",
              "      <td>42</td>\n",
              "      <td>8</td>\n",
              "      <td>159660.80</td>\n",
              "      <td>3</td>\n",
              "      <td>1</td>\n",
              "      <td>0</td>\n",
              "      <td>113931.57</td>\n",
              "      <td>1</td>\n",
              "    </tr>\n",
              "    <tr>\n",
              "      <th>3</th>\n",
              "      <td>4</td>\n",
              "      <td>15701354</td>\n",
              "      <td>Boni</td>\n",
              "      <td>699</td>\n",
              "      <td>France</td>\n",
              "      <td>Female</td>\n",
              "      <td>39</td>\n",
              "      <td>1</td>\n",
              "      <td>0.00</td>\n",
              "      <td>2</td>\n",
              "      <td>0</td>\n",
              "      <td>0</td>\n",
              "      <td>93826.63</td>\n",
              "      <td>0</td>\n",
              "    </tr>\n",
              "    <tr>\n",
              "      <th>4</th>\n",
              "      <td>5</td>\n",
              "      <td>15737888</td>\n",
              "      <td>Mitchell</td>\n",
              "      <td>850</td>\n",
              "      <td>Spain</td>\n",
              "      <td>Female</td>\n",
              "      <td>43</td>\n",
              "      <td>2</td>\n",
              "      <td>125510.82</td>\n",
              "      <td>1</td>\n",
              "      <td>1</td>\n",
              "      <td>1</td>\n",
              "      <td>79084.10</td>\n",
              "      <td>0</td>\n",
              "    </tr>\n",
              "  </tbody>\n",
              "</table>\n",
              "</div>"
            ],
            "text/plain": [
              "   RowNumber  CustomerId   Surname  ...  IsActiveMember EstimatedSalary Exited\n",
              "0          1    15634602  Hargrave  ...               1       101348.88      1\n",
              "1          2    15647311      Hill  ...               1       112542.58      0\n",
              "2          3    15619304      Onio  ...               0       113931.57      1\n",
              "3          4    15701354      Boni  ...               0        93826.63      0\n",
              "4          5    15737888  Mitchell  ...               1        79084.10      0\n",
              "\n",
              "[5 rows x 14 columns]"
            ]
          },
          "metadata": {
            "tags": []
          },
          "execution_count": 49
        }
      ]
    },
    {
      "cell_type": "markdown",
      "metadata": {
        "id": "4sxEDPe-4Mxn"
      },
      "source": [
        "### Splitting the data into X and y"
      ]
    },
    {
      "cell_type": "code",
      "metadata": {
        "id": "svWLziwP4F4b"
      },
      "source": [
        "X = data.drop ( \"Exited\" , axis = 1 )\n",
        "y = data [ \"Exited\" ]"
      ],
      "execution_count": 50,
      "outputs": []
    },
    {
      "cell_type": "markdown",
      "metadata": {
        "id": "RLyAcjX04oZn"
      },
      "source": [
        "### Dimensions of data"
      ]
    },
    {
      "cell_type": "code",
      "metadata": {
        "colab": {
          "base_uri": "https://localhost:8080/"
        },
        "id": "-7K2Y6oV4oIB",
        "outputId": "fd3bfb02-45a9-4eee-9c61-ef22aa6dcaef"
      },
      "source": [
        "print ( \"Rows: {}\\tColumns: {}\" .format ( data.shape [ 0 ] , data.shape [ 1 ] ) )"
      ],
      "execution_count": 51,
      "outputs": [
        {
          "output_type": "stream",
          "text": [
            "Rows: 10000\tColumns: 14\n"
          ],
          "name": "stdout"
        }
      ]
    },
    {
      "cell_type": "markdown",
      "metadata": {
        "id": "Z9RhHPNa4ZbJ"
      },
      "source": [
        "### Checking the null values"
      ]
    },
    {
      "cell_type": "code",
      "metadata": {
        "colab": {
          "base_uri": "https://localhost:8080/"
        },
        "id": "3bkYJAa04YYK",
        "outputId": "f901fea5-8206-49ad-9c87-4c4d64b9e962"
      },
      "source": [
        "data.isnull ( ).sum ( )"
      ],
      "execution_count": 52,
      "outputs": [
        {
          "output_type": "execute_result",
          "data": {
            "text/plain": [
              "RowNumber          0\n",
              "CustomerId         0\n",
              "Surname            0\n",
              "CreditScore        0\n",
              "Geography          0\n",
              "Gender             0\n",
              "Age                0\n",
              "Tenure             0\n",
              "Balance            0\n",
              "NumOfProducts      0\n",
              "HasCrCard          0\n",
              "IsActiveMember     0\n",
              "EstimatedSalary    0\n",
              "Exited             0\n",
              "dtype: int64"
            ]
          },
          "metadata": {
            "tags": []
          },
          "execution_count": 52
        }
      ]
    },
    {
      "cell_type": "markdown",
      "metadata": {
        "id": "03ux9TfU4hXC"
      },
      "source": [
        "### Information related to features"
      ]
    },
    {
      "cell_type": "code",
      "metadata": {
        "colab": {
          "base_uri": "https://localhost:8080/"
        },
        "id": "y-xl0whx4fbe",
        "outputId": "f7bdbec1-723d-450f-fb33-d36b96302aae"
      },
      "source": [
        "data.info ( )"
      ],
      "execution_count": 53,
      "outputs": [
        {
          "output_type": "stream",
          "text": [
            "<class 'pandas.core.frame.DataFrame'>\n",
            "RangeIndex: 10000 entries, 0 to 9999\n",
            "Data columns (total 14 columns):\n",
            " #   Column           Non-Null Count  Dtype  \n",
            "---  ------           --------------  -----  \n",
            " 0   RowNumber        10000 non-null  int64  \n",
            " 1   CustomerId       10000 non-null  int64  \n",
            " 2   Surname          10000 non-null  object \n",
            " 3   CreditScore      10000 non-null  int64  \n",
            " 4   Geography        10000 non-null  object \n",
            " 5   Gender           10000 non-null  object \n",
            " 6   Age              10000 non-null  int64  \n",
            " 7   Tenure           10000 non-null  int64  \n",
            " 8   Balance          10000 non-null  float64\n",
            " 9   NumOfProducts    10000 non-null  int64  \n",
            " 10  HasCrCard        10000 non-null  int64  \n",
            " 11  IsActiveMember   10000 non-null  int64  \n",
            " 12  EstimatedSalary  10000 non-null  float64\n",
            " 13  Exited           10000 non-null  int64  \n",
            "dtypes: float64(2), int64(9), object(3)\n",
            "memory usage: 1.1+ MB\n"
          ],
          "name": "stdout"
        }
      ]
    },
    {
      "cell_type": "markdown",
      "metadata": {
        "id": "KHxfYdi95DL5"
      },
      "source": [
        "### Dropping the unnecessary columns"
      ]
    },
    {
      "cell_type": "code",
      "metadata": {
        "id": "yhXVQBH94lja"
      },
      "source": [
        "X.drop ( [ \"RowNumber\" , \"CustomerId\" , \"Surname\" ] , axis = 1 , inplace = True )"
      ],
      "execution_count": 54,
      "outputs": []
    },
    {
      "cell_type": "markdown",
      "metadata": {
        "id": "fhL34KGI7UmP"
      },
      "source": [
        "### Creating dummies for Geography and Gender"
      ]
    },
    {
      "cell_type": "code",
      "metadata": {
        "colab": {
          "base_uri": "https://localhost:8080/",
          "height": 224
        },
        "id": "nG6Ys-q25QWM",
        "outputId": "7a8bf840-9711-4817-ce1c-d6fe332a43d7"
      },
      "source": [
        "X = pd.get_dummies ( X , columns = [ \"Geography\" , \"Gender\" ] , drop_first = True )\n",
        "X.head ( )"
      ],
      "execution_count": 55,
      "outputs": [
        {
          "output_type": "execute_result",
          "data": {
            "text/html": [
              "<div>\n",
              "<style scoped>\n",
              "    .dataframe tbody tr th:only-of-type {\n",
              "        vertical-align: middle;\n",
              "    }\n",
              "\n",
              "    .dataframe tbody tr th {\n",
              "        vertical-align: top;\n",
              "    }\n",
              "\n",
              "    .dataframe thead th {\n",
              "        text-align: right;\n",
              "    }\n",
              "</style>\n",
              "<table border=\"1\" class=\"dataframe\">\n",
              "  <thead>\n",
              "    <tr style=\"text-align: right;\">\n",
              "      <th></th>\n",
              "      <th>CreditScore</th>\n",
              "      <th>Age</th>\n",
              "      <th>Tenure</th>\n",
              "      <th>Balance</th>\n",
              "      <th>NumOfProducts</th>\n",
              "      <th>HasCrCard</th>\n",
              "      <th>IsActiveMember</th>\n",
              "      <th>EstimatedSalary</th>\n",
              "      <th>Geography_Germany</th>\n",
              "      <th>Geography_Spain</th>\n",
              "      <th>Gender_Male</th>\n",
              "    </tr>\n",
              "  </thead>\n",
              "  <tbody>\n",
              "    <tr>\n",
              "      <th>0</th>\n",
              "      <td>619</td>\n",
              "      <td>42</td>\n",
              "      <td>2</td>\n",
              "      <td>0.00</td>\n",
              "      <td>1</td>\n",
              "      <td>1</td>\n",
              "      <td>1</td>\n",
              "      <td>101348.88</td>\n",
              "      <td>0</td>\n",
              "      <td>0</td>\n",
              "      <td>0</td>\n",
              "    </tr>\n",
              "    <tr>\n",
              "      <th>1</th>\n",
              "      <td>608</td>\n",
              "      <td>41</td>\n",
              "      <td>1</td>\n",
              "      <td>83807.86</td>\n",
              "      <td>1</td>\n",
              "      <td>0</td>\n",
              "      <td>1</td>\n",
              "      <td>112542.58</td>\n",
              "      <td>0</td>\n",
              "      <td>1</td>\n",
              "      <td>0</td>\n",
              "    </tr>\n",
              "    <tr>\n",
              "      <th>2</th>\n",
              "      <td>502</td>\n",
              "      <td>42</td>\n",
              "      <td>8</td>\n",
              "      <td>159660.80</td>\n",
              "      <td>3</td>\n",
              "      <td>1</td>\n",
              "      <td>0</td>\n",
              "      <td>113931.57</td>\n",
              "      <td>0</td>\n",
              "      <td>0</td>\n",
              "      <td>0</td>\n",
              "    </tr>\n",
              "    <tr>\n",
              "      <th>3</th>\n",
              "      <td>699</td>\n",
              "      <td>39</td>\n",
              "      <td>1</td>\n",
              "      <td>0.00</td>\n",
              "      <td>2</td>\n",
              "      <td>0</td>\n",
              "      <td>0</td>\n",
              "      <td>93826.63</td>\n",
              "      <td>0</td>\n",
              "      <td>0</td>\n",
              "      <td>0</td>\n",
              "    </tr>\n",
              "    <tr>\n",
              "      <th>4</th>\n",
              "      <td>850</td>\n",
              "      <td>43</td>\n",
              "      <td>2</td>\n",
              "      <td>125510.82</td>\n",
              "      <td>1</td>\n",
              "      <td>1</td>\n",
              "      <td>1</td>\n",
              "      <td>79084.10</td>\n",
              "      <td>0</td>\n",
              "      <td>1</td>\n",
              "      <td>0</td>\n",
              "    </tr>\n",
              "  </tbody>\n",
              "</table>\n",
              "</div>"
            ],
            "text/plain": [
              "   CreditScore  Age  Tenure  ...  Geography_Germany  Geography_Spain  Gender_Male\n",
              "0          619   42       2  ...                  0                0            0\n",
              "1          608   41       1  ...                  0                1            0\n",
              "2          502   42       8  ...                  0                0            0\n",
              "3          699   39       1  ...                  0                0            0\n",
              "4          850   43       2  ...                  0                1            0\n",
              "\n",
              "[5 rows x 11 columns]"
            ]
          },
          "metadata": {
            "tags": []
          },
          "execution_count": 55
        }
      ]
    },
    {
      "cell_type": "markdown",
      "metadata": {
        "id": "9BC-_SeQ91rC"
      },
      "source": [
        "### Performing the Train-Test split"
      ]
    },
    {
      "cell_type": "code",
      "metadata": {
        "id": "T8bvH3El7nAz"
      },
      "source": [
        "X_train , X_test , y_train , y_test = train_test_split ( X , y , test_size = 0.2 , random_state = 37 )"
      ],
      "execution_count": 56,
      "outputs": []
    },
    {
      "cell_type": "markdown",
      "metadata": {
        "id": "yThMd1rm-J2L"
      },
      "source": [
        "### Scaling all the features using StandardScaler"
      ]
    },
    {
      "cell_type": "code",
      "metadata": {
        "id": "MSWNEXWz95x9"
      },
      "source": [
        "ss = StandardScaler ( )\n",
        "X_train = ss.fit_transform ( X_train )\n",
        "X_test = ss.transform ( X_test )"
      ],
      "execution_count": 57,
      "outputs": []
    },
    {
      "cell_type": "markdown",
      "metadata": {
        "id": "bh4SEm6UCuxA"
      },
      "source": [
        "### Creating an Artificial Neural Network (ANN)"
      ]
    },
    {
      "cell_type": "code",
      "metadata": {
        "id": "xDiWoqUc-kAA"
      },
      "source": [
        "layers = [ tf.keras.layers.Dense ( 10 , kernel_initializer = \"he_uniform\" , activation = \"relu\" , input_shape = X_train.shape [ 1 : ] ) ,\n",
        "          tf.keras.layers.Dense ( 10 , kernel_initializer = \"he_uniform\" , activation = \"relu\" ) , \n",
        "          tf.keras.layers.Dense ( 1 , kernel_initializer = \"glorot_uniform\" , activation = \"sigmoid\" ) ]\n",
        "model = tf.keras.models.Sequential ( layers )\n",
        "model.compile ( optimizer = \"adam\" , loss = \"binary_crossentropy\" , metrics = [ \"accuracy\" ] )"
      ],
      "execution_count": 58,
      "outputs": []
    },
    {
      "cell_type": "code",
      "metadata": {
        "colab": {
          "base_uri": "https://localhost:8080/"
        },
        "id": "4fiKmDzODtey",
        "outputId": "d364cb2c-a24f-4434-8e8d-3e019adeb248"
      },
      "source": [
        "model.summary ( )"
      ],
      "execution_count": 59,
      "outputs": [
        {
          "output_type": "stream",
          "text": [
            "Model: \"sequential_2\"\n",
            "_________________________________________________________________\n",
            "Layer (type)                 Output Shape              Param #   \n",
            "=================================================================\n",
            "dense_6 (Dense)              (None, 10)                120       \n",
            "_________________________________________________________________\n",
            "dense_7 (Dense)              (None, 10)                110       \n",
            "_________________________________________________________________\n",
            "dense_8 (Dense)              (None, 1)                 11        \n",
            "=================================================================\n",
            "Total params: 241\n",
            "Trainable params: 241\n",
            "Non-trainable params: 0\n",
            "_________________________________________________________________\n"
          ],
          "name": "stdout"
        }
      ]
    },
    {
      "cell_type": "code",
      "metadata": {
        "colab": {
          "base_uri": "https://localhost:8080/"
        },
        "id": "A7b98m_ND8jl",
        "outputId": "633ae0b4-8c62-47f9-ede3-5c3aabae15c2"
      },
      "source": [
        "history = model.fit ( X_train , y_train , epochs = 50 , validation_split = 0.2 , batch_size = 100 )"
      ],
      "execution_count": 60,
      "outputs": [
        {
          "output_type": "stream",
          "text": [
            "Epoch 1/50\n",
            "64/64 [==============================] - 1s 4ms/step - loss: 0.5491 - accuracy: 0.7622 - val_loss: 0.5222 - val_accuracy: 0.7806\n",
            "Epoch 2/50\n",
            "64/64 [==============================] - 0s 2ms/step - loss: 0.4916 - accuracy: 0.7989 - val_loss: 0.4958 - val_accuracy: 0.7931\n",
            "Epoch 3/50\n",
            "64/64 [==============================] - 0s 2ms/step - loss: 0.4893 - accuracy: 0.7928 - val_loss: 0.4809 - val_accuracy: 0.8006\n",
            "Epoch 4/50\n",
            "64/64 [==============================] - 0s 2ms/step - loss: 0.4561 - accuracy: 0.8163 - val_loss: 0.4714 - val_accuracy: 0.8037\n",
            "Epoch 5/50\n",
            "64/64 [==============================] - 0s 2ms/step - loss: 0.4411 - accuracy: 0.8175 - val_loss: 0.4644 - val_accuracy: 0.7987\n",
            "Epoch 6/50\n",
            "64/64 [==============================] - 0s 2ms/step - loss: 0.4329 - accuracy: 0.8197 - val_loss: 0.4597 - val_accuracy: 0.8006\n",
            "Epoch 7/50\n",
            "64/64 [==============================] - 0s 2ms/step - loss: 0.4258 - accuracy: 0.8196 - val_loss: 0.4561 - val_accuracy: 0.7906\n",
            "Epoch 8/50\n",
            "64/64 [==============================] - 0s 2ms/step - loss: 0.4258 - accuracy: 0.8198 - val_loss: 0.4518 - val_accuracy: 0.7962\n",
            "Epoch 9/50\n",
            "64/64 [==============================] - 0s 2ms/step - loss: 0.4252 - accuracy: 0.8162 - val_loss: 0.4477 - val_accuracy: 0.8056\n",
            "Epoch 10/50\n",
            "64/64 [==============================] - 0s 2ms/step - loss: 0.4227 - accuracy: 0.8181 - val_loss: 0.4448 - val_accuracy: 0.8019\n",
            "Epoch 11/50\n",
            "64/64 [==============================] - 0s 2ms/step - loss: 0.4160 - accuracy: 0.8211 - val_loss: 0.4418 - val_accuracy: 0.8012\n",
            "Epoch 12/50\n",
            "64/64 [==============================] - 0s 2ms/step - loss: 0.4053 - accuracy: 0.8292 - val_loss: 0.4385 - val_accuracy: 0.8025\n",
            "Epoch 13/50\n",
            "64/64 [==============================] - 0s 2ms/step - loss: 0.4033 - accuracy: 0.8274 - val_loss: 0.4356 - val_accuracy: 0.8075\n",
            "Epoch 14/50\n",
            "64/64 [==============================] - 0s 2ms/step - loss: 0.4142 - accuracy: 0.8243 - val_loss: 0.4319 - val_accuracy: 0.8119\n",
            "Epoch 15/50\n",
            "64/64 [==============================] - 0s 2ms/step - loss: 0.3971 - accuracy: 0.8297 - val_loss: 0.4284 - val_accuracy: 0.8150\n",
            "Epoch 16/50\n",
            "64/64 [==============================] - 0s 2ms/step - loss: 0.3957 - accuracy: 0.8327 - val_loss: 0.4249 - val_accuracy: 0.8156\n",
            "Epoch 17/50\n",
            "64/64 [==============================] - 0s 2ms/step - loss: 0.3848 - accuracy: 0.8429 - val_loss: 0.4215 - val_accuracy: 0.8188\n",
            "Epoch 18/50\n",
            "64/64 [==============================] - 0s 2ms/step - loss: 0.3787 - accuracy: 0.8407 - val_loss: 0.4181 - val_accuracy: 0.8231\n",
            "Epoch 19/50\n",
            "64/64 [==============================] - 0s 2ms/step - loss: 0.3842 - accuracy: 0.8411 - val_loss: 0.4142 - val_accuracy: 0.8225\n",
            "Epoch 20/50\n",
            "64/64 [==============================] - 0s 2ms/step - loss: 0.3699 - accuracy: 0.8471 - val_loss: 0.4109 - val_accuracy: 0.8281\n",
            "Epoch 21/50\n",
            "64/64 [==============================] - 0s 2ms/step - loss: 0.3688 - accuracy: 0.8503 - val_loss: 0.4071 - val_accuracy: 0.8306\n",
            "Epoch 22/50\n",
            "64/64 [==============================] - 0s 4ms/step - loss: 0.3688 - accuracy: 0.8524 - val_loss: 0.4035 - val_accuracy: 0.8288\n",
            "Epoch 23/50\n",
            "64/64 [==============================] - 0s 2ms/step - loss: 0.3560 - accuracy: 0.8555 - val_loss: 0.4006 - val_accuracy: 0.8319\n",
            "Epoch 24/50\n",
            "64/64 [==============================] - 0s 2ms/step - loss: 0.3724 - accuracy: 0.8455 - val_loss: 0.3971 - val_accuracy: 0.8344\n",
            "Epoch 25/50\n",
            "64/64 [==============================] - 0s 2ms/step - loss: 0.3665 - accuracy: 0.8468 - val_loss: 0.3947 - val_accuracy: 0.8356\n",
            "Epoch 26/50\n",
            "64/64 [==============================] - 0s 2ms/step - loss: 0.3564 - accuracy: 0.8565 - val_loss: 0.3920 - val_accuracy: 0.8338\n",
            "Epoch 27/50\n",
            "64/64 [==============================] - 0s 2ms/step - loss: 0.3548 - accuracy: 0.8512 - val_loss: 0.3895 - val_accuracy: 0.8325\n",
            "Epoch 28/50\n",
            "64/64 [==============================] - 0s 2ms/step - loss: 0.3515 - accuracy: 0.8563 - val_loss: 0.3870 - val_accuracy: 0.8394\n",
            "Epoch 29/50\n",
            "64/64 [==============================] - 0s 2ms/step - loss: 0.3526 - accuracy: 0.8507 - val_loss: 0.3842 - val_accuracy: 0.8363\n",
            "Epoch 30/50\n",
            "64/64 [==============================] - 0s 2ms/step - loss: 0.3493 - accuracy: 0.8553 - val_loss: 0.3829 - val_accuracy: 0.8363\n",
            "Epoch 31/50\n",
            "64/64 [==============================] - 0s 2ms/step - loss: 0.3502 - accuracy: 0.8529 - val_loss: 0.3809 - val_accuracy: 0.8381\n",
            "Epoch 32/50\n",
            "64/64 [==============================] - 0s 2ms/step - loss: 0.3447 - accuracy: 0.8600 - val_loss: 0.3794 - val_accuracy: 0.8381\n",
            "Epoch 33/50\n",
            "64/64 [==============================] - 0s 2ms/step - loss: 0.3460 - accuracy: 0.8492 - val_loss: 0.3787 - val_accuracy: 0.8369\n",
            "Epoch 34/50\n",
            "64/64 [==============================] - 0s 2ms/step - loss: 0.3313 - accuracy: 0.8625 - val_loss: 0.3771 - val_accuracy: 0.8413\n",
            "Epoch 35/50\n",
            "64/64 [==============================] - 0s 2ms/step - loss: 0.3452 - accuracy: 0.8567 - val_loss: 0.3762 - val_accuracy: 0.8419\n",
            "Epoch 36/50\n",
            "64/64 [==============================] - 0s 2ms/step - loss: 0.3246 - accuracy: 0.8624 - val_loss: 0.3749 - val_accuracy: 0.8413\n",
            "Epoch 37/50\n",
            "64/64 [==============================] - 0s 2ms/step - loss: 0.3519 - accuracy: 0.8535 - val_loss: 0.3746 - val_accuracy: 0.8419\n",
            "Epoch 38/50\n",
            "64/64 [==============================] - 0s 2ms/step - loss: 0.3344 - accuracy: 0.8640 - val_loss: 0.3734 - val_accuracy: 0.8413\n",
            "Epoch 39/50\n",
            "64/64 [==============================] - 0s 2ms/step - loss: 0.3253 - accuracy: 0.8663 - val_loss: 0.3730 - val_accuracy: 0.8438\n",
            "Epoch 40/50\n",
            "64/64 [==============================] - 0s 2ms/step - loss: 0.3435 - accuracy: 0.8585 - val_loss: 0.3722 - val_accuracy: 0.8425\n",
            "Epoch 41/50\n",
            "64/64 [==============================] - 0s 2ms/step - loss: 0.3229 - accuracy: 0.8705 - val_loss: 0.3723 - val_accuracy: 0.8400\n",
            "Epoch 42/50\n",
            "64/64 [==============================] - 0s 2ms/step - loss: 0.3374 - accuracy: 0.8616 - val_loss: 0.3713 - val_accuracy: 0.8419\n",
            "Epoch 43/50\n",
            "64/64 [==============================] - 0s 2ms/step - loss: 0.3326 - accuracy: 0.8612 - val_loss: 0.3708 - val_accuracy: 0.8431\n",
            "Epoch 44/50\n",
            "64/64 [==============================] - 0s 2ms/step - loss: 0.3399 - accuracy: 0.8628 - val_loss: 0.3707 - val_accuracy: 0.8438\n",
            "Epoch 45/50\n",
            "64/64 [==============================] - 0s 2ms/step - loss: 0.3318 - accuracy: 0.8632 - val_loss: 0.3704 - val_accuracy: 0.8444\n",
            "Epoch 46/50\n",
            "64/64 [==============================] - 0s 2ms/step - loss: 0.3353 - accuracy: 0.8618 - val_loss: 0.3701 - val_accuracy: 0.8438\n",
            "Epoch 47/50\n",
            "64/64 [==============================] - 0s 2ms/step - loss: 0.3326 - accuracy: 0.8618 - val_loss: 0.3701 - val_accuracy: 0.8444\n",
            "Epoch 48/50\n",
            "64/64 [==============================] - 0s 2ms/step - loss: 0.3256 - accuracy: 0.8614 - val_loss: 0.3694 - val_accuracy: 0.8438\n",
            "Epoch 49/50\n",
            "64/64 [==============================] - 0s 2ms/step - loss: 0.3216 - accuracy: 0.8661 - val_loss: 0.3691 - val_accuracy: 0.8444\n",
            "Epoch 50/50\n",
            "64/64 [==============================] - 0s 2ms/step - loss: 0.3215 - accuracy: 0.8687 - val_loss: 0.3687 - val_accuracy: 0.8444\n"
          ],
          "name": "stdout"
        }
      ]
    },
    {
      "cell_type": "code",
      "metadata": {
        "colab": {
          "base_uri": "https://localhost:8080/",
          "height": 320
        },
        "id": "MEUPcU51E6gi",
        "outputId": "9a858e4a-084d-45d3-80bb-48e34b78867c"
      },
      "source": [
        "pd.DataFrame ( history.history ).plot ( figsize = ( 8 , 5 ) )\n",
        "plt.grid ( True )\n",
        "plt.show ( )"
      ],
      "execution_count": 61,
      "outputs": [
        {
          "output_type": "display_data",
          "data": {
            "image/png": "[encoded data removed]",
            "text/plain": [
              "<Figure size 576x360 with 1 Axes>"
            ]
          },
          "metadata": {
            "tags": [],
            "needs_background": "light"
          }
        }
      ]
    },
    {
      "cell_type": "markdown",
      "metadata": {
        "id": "pbKvOWXLFgl-"
      },
      "source": [
        "### Model Evaluation"
      ]
    },
    {
      "cell_type": "code",
      "metadata": {
        "colab": {
          "base_uri": "https://localhost:8080/"
        },
        "id": "QJY6_JxsFQub",
        "outputId": "b40c98fc-26f2-4571-dd7f-bb2815bc5ace"
      },
      "source": [
        "model.evaluate ( X_test , y_test )"
      ],
      "execution_count": 62,
      "outputs": [
        {
          "output_type": "stream",
          "text": [
            "63/63 [==============================] - 0s 1ms/step - loss: 0.3708 - accuracy: 0.8515\n"
          ],
          "name": "stdout"
        },
        {
          "output_type": "execute_result",
          "data": {
            "text/plain": [
              "[0.37077489495277405, 0.8514999747276306]"
            ]
          },
          "metadata": {
            "tags": []
          },
          "execution_count": 62
        }
      ]
    },
    {
      "cell_type": "markdown",
      "metadata": {
        "id": "gUcemoojFpBf"
      },
      "source": [
        "### Predicting the first 5 samples"
      ]
    },
    {
      "cell_type": "code",
      "metadata": {
        "colab": {
          "base_uri": "https://localhost:8080/"
        },
        "id": "cZ7S9PbeFmPA",
        "outputId": "e89d7a66-82eb-4d78-b7bf-de008149eb37"
      },
      "source": [
        "model.predict ( X_test [ : 5 ] )"
      ],
      "execution_count": 63,
      "outputs": [
        {
          "output_type": "execute_result",
          "data": {
            "text/plain": [
              "array([[0.2541742 ],\n",
              "       [0.13273415],\n",
              "       [0.999058  ],\n",
              "       [0.02651751],\n",
              "       [0.6529175 ]], dtype=float32)"
            ]
          },
          "metadata": {
            "tags": []
          },
          "execution_count": 63
        }
      ]
    },
    {
      "cell_type": "code",
      "metadata": {
        "colab": {
          "base_uri": "https://localhost:8080/"
        },
        "id": "nqgluTHSFuY-",
        "outputId": "97e638a8-0826-40ae-f05d-063a614673a1"
      },
      "source": [
        "confusion_matrix ( y_test , model.predict ( X_test ) > 0.5 )"
      ],
      "execution_count": 64,
      "outputs": [
        {
          "output_type": "execute_result",
          "data": {
            "text/plain": [
              "array([[1535,   65],\n",
              "       [ 232,  168]])"
            ]
          },
          "metadata": {
            "tags": []
          },
          "execution_count": 64
        }
      ]
    },
    {
      "cell_type": "markdown",
      "metadata": {
        "id": "UGmbXKSWsozd"
      },
      "source": [
        "### Keras Tuner for hyperparameter optimization"
      ]
    },
    {
      "cell_type": "code",
      "metadata": {
        "id": "kubjjaP_GF_Z"
      },
      "source": [
        "from keras.layers import Dense\n",
        "def build_model ( hp ):\n",
        "  model = keras.Sequential ( )\n",
        "  for i in range ( hp.Int ( \"num_layers\" , 2 , 20 ) ):\n",
        "    model.add ( Dense ( units = hp.Int ( \"units_\" + str ( i ) , \n",
        "                                               min_value = 32 , \n",
        "                                               max_value = 512 , \n",
        "                                               step = 32 ) , \n",
        "                                               activation = \"relu\" ) )\n",
        "  model.add ( Dense ( 1 , activation = \"sigmoid\" ) )\n",
        "  model.compile ( loss = \"binary_crossentropy\" , \n",
        "                 metrics = [ \"accuracy\" ] , \n",
        "                 optimizer = keras.optimizers.Adam ( hp.Choice ( \"learning_rate\" , [ 1e-02 , 1e-3 , 1e-4 ] ) ) )\n",
        "  return model"
      ],
      "execution_count": 87,
      "outputs": []
    },
    {
      "cell_type": "code",
      "metadata": {
        "id": "nemLenL1wuVD"
      },
      "source": [
        "tuner = RandomSearch ( build_model , \n",
        "                      objective = \"val_accuracy\" , \n",
        "                      max_trials = 5 , \n",
        "                      executions_per_trial = 3 , \n",
        "                      directory = \"project1\" , \n",
        "                      project_name = \"Churn\" )"
      ],
      "execution_count": 89,
      "outputs": []
    },
    {
      "cell_type": "code",
      "metadata": {
        "colab": {
          "base_uri": "https://localhost:8080/"
        },
        "id": "Etdm0zt60KIc",
        "outputId": "9df5806b-a00f-4689-e91e-40dc9129ac6d"
      },
      "source": [
        "tuner.search_space_summary ( )"
      ],
      "execution_count": 90,
      "outputs": [
        {
          "output_type": "stream",
          "text": [
            "Search space summary\n",
            "Default search space size: 4\n",
            "num_layers (Int)\n",
            "{'default': None, 'conditions': [], 'min_value': 2, 'max_value': 20, 'step': 1, 'sampling': None}\n",
            "units_0 (Int)\n",
            "{'default': None, 'conditions': [], 'min_value': 32, 'max_value': 512, 'step': 32, 'sampling': None}\n",
            "units_1 (Int)\n",
            "{'default': None, 'conditions': [], 'min_value': 32, 'max_value': 512, 'step': 32, 'sampling': None}\n",
            "learning_rate (Choice)\n",
            "{'default': 0.01, 'conditions': [], 'values': [0.01, 0.001, 0.0001], 'ordered': True}\n"
          ],
          "name": "stdout"
        }
      ]
    },
    {
      "cell_type": "code",
      "metadata": {
        "colab": {
          "base_uri": "https://localhost:8080/"
        },
        "id": "h26oBW9f1McW",
        "outputId": "88bbebe8-ef2f-4863-b342-c8d10c8e72d8"
      },
      "source": [
        "tuner.search ( X_train , y_train , \n",
        "              epochs = 5 , \n",
        "              validation_data = ( X_test , y_test ) )"
      ],
      "execution_count": 91,
      "outputs": [
        {
          "output_type": "stream",
          "text": [
            "Trial 5 Complete [00h 00m 20s]\n",
            "val_accuracy: 0.8521666526794434\n",
            "\n",
            "Best val_accuracy So Far: 0.8548333446184794\n",
            "Total elapsed time: 00h 02m 40s\n",
            "INFO:tensorflow:Oracle triggered exit\n"
          ],
          "name": "stdout"
        }
      ]
    },
    {
      "cell_type": "code",
      "metadata": {
        "colab": {
          "base_uri": "https://localhost:8080/"
        },
        "id": "zL4pwqsv1oig",
        "outputId": "82f68cb6-52de-4f74-90e2-bd90ee5fe9c0"
      },
      "source": [
        "tuner.results_summary ( )"
      ],
      "execution_count": 94,
      "outputs": [
        {
          "output_type": "stream",
          "text": [
            "Results summary\n",
            "Results in project1/Churn\n",
            "Showing 10 best trials\n",
            "Objective(name='val_accuracy', direction='max')\n",
            "Trial summary\n",
            "Hyperparameters:\n",
            "num_layers: 17\n",
            "units_0: 320\n",
            "units_1: 32\n",
            "learning_rate: 0.001\n",
            "units_2: 384\n",
            "units_3: 480\n",
            "units_4: 256\n",
            "units_5: 96\n",
            "units_6: 288\n",
            "units_7: 352\n",
            "units_8: 384\n",
            "units_9: 416\n",
            "units_10: 192\n",
            "units_11: 448\n",
            "units_12: 256\n",
            "units_13: 352\n",
            "units_14: 288\n",
            "units_15: 224\n",
            "units_16: 192\n",
            "units_17: 192\n",
            "units_18: 416\n",
            "Score: 0.8548333446184794\n",
            "Trial summary\n",
            "Hyperparameters:\n",
            "num_layers: 17\n",
            "units_0: 128\n",
            "units_1: 352\n",
            "learning_rate: 0.0001\n",
            "units_2: 32\n",
            "units_3: 32\n",
            "units_4: 32\n",
            "units_5: 32\n",
            "units_6: 32\n",
            "units_7: 32\n",
            "units_8: 32\n",
            "units_9: 32\n",
            "units_10: 32\n",
            "units_11: 32\n",
            "units_12: 32\n",
            "units_13: 32\n",
            "units_14: 32\n",
            "units_15: 32\n",
            "units_16: 32\n",
            "Score: 0.8545000155766805\n",
            "Trial summary\n",
            "Hyperparameters:\n",
            "num_layers: 5\n",
            "units_0: 32\n",
            "units_1: 256\n",
            "learning_rate: 0.01\n",
            "units_2: 128\n",
            "units_3: 352\n",
            "units_4: 160\n",
            "units_5: 32\n",
            "units_6: 64\n",
            "units_7: 384\n",
            "units_8: 384\n",
            "units_9: 512\n",
            "units_10: 160\n",
            "units_11: 224\n",
            "units_12: 96\n",
            "units_13: 480\n",
            "units_14: 256\n",
            "units_15: 128\n",
            "units_16: 352\n",
            "units_17: 320\n",
            "units_18: 256\n",
            "Score: 0.8523333470026652\n",
            "Trial summary\n",
            "Hyperparameters:\n",
            "num_layers: 6\n",
            "units_0: 64\n",
            "units_1: 480\n",
            "learning_rate: 0.0001\n",
            "units_2: 96\n",
            "units_3: 192\n",
            "units_4: 448\n",
            "units_5: 288\n",
            "units_6: 160\n",
            "units_7: 320\n",
            "units_8: 288\n",
            "units_9: 480\n",
            "units_10: 64\n",
            "units_11: 512\n",
            "units_12: 32\n",
            "units_13: 256\n",
            "units_14: 96\n",
            "units_15: 480\n",
            "units_16: 480\n",
            "units_17: 288\n",
            "units_18: 448\n",
            "Score: 0.8521666526794434\n",
            "Trial summary\n",
            "Hyperparameters:\n",
            "num_layers: 19\n",
            "units_0: 352\n",
            "units_1: 352\n",
            "learning_rate: 0.01\n",
            "units_2: 320\n",
            "units_3: 160\n",
            "units_4: 288\n",
            "units_5: 352\n",
            "units_6: 288\n",
            "units_7: 512\n",
            "units_8: 64\n",
            "units_9: 32\n",
            "units_10: 384\n",
            "units_11: 320\n",
            "units_12: 256\n",
            "units_13: 192\n",
            "units_14: 320\n",
            "units_15: 160\n",
            "units_16: 256\n",
            "units_17: 32\n",
            "units_18: 32\n",
            "Score: 0.800000011920929\n"
          ],
          "name": "stdout"
        }
      ]
    },
    {
      "cell_type": "code",
      "metadata": {
        "id": "IusyOSKX2bap"
      },
      "source": [
        " "
      ],
      "execution_count": null,
      "outputs": []
    }
  ]
}